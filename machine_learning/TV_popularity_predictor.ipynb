{
 "cells": [
  {
   "cell_type": "markdown",
   "metadata": {},
   "source": [
    "# TV shows Popularity Predictor (39%)\n",
    "\n",
    "The goal of this challenge is to create a model that predicts the `popularity` of a movie or TV show\n",
    "\n",
    "<img src=\"image.jpg\" width=300 />\n",
    "\n",
    "\n",
    "\n",
    "\n",
    "The dataset contains a list of movies and TV shows with the following characteristics:\n",
    "- `title`: title of the movie in english\n",
    "- `original_title`: original title of the movie \n",
    "- `duration_min`: duration of the movie in minutes\n",
    "- `popularity`: popularity of the movie in terms of review scores\n",
    "- `release_date`: release date\n",
    "- `description`: short summary of the movie\n",
    "- `budget`: budget spent to produce the movie in USD\n",
    "- `revenue`: movie revenue in USD \n",
    "- `original_language`: original language \n",
    "- `status`: is the movie already released or not\n",
    "- `number_of_awards_won`: number of awards won for the movie\n",
    "- `number_of_nominations`: number of nominations\n",
    "- `has_collection`: if the movie is part of a sequel or not\n",
    "- `all_genres`: genres that described the movie (can be zero, one or many!) \n",
    "- `top_countries`: countries where the movie was produced (can be zero, one or many!) \n",
    "- `number_of_top_productions`: number of top production companies that produced the film if any. \n",
    "Top production companies includes: Warner Bros, Universal Pictures, Paramount Pictures, Canal+, etc...\n",
    "- `available_in_english`: whether the movie is available in english or not"
   ]
  },
  {
   "cell_type": "markdown",
   "metadata": {},
   "source": [
    "## Imports\n",
    "\n",
    "Run the following cell to load the basic packages:"
   ]
  },
  {
   "cell_type": "code",
   "execution_count": 1,
   "metadata": {
    "ExecuteTime": {
     "end_time": "2021-06-29T17:29:05.325249Z",
     "start_time": "2021-06-29T17:29:04.415422Z"
    }
   },
   "outputs": [],
   "source": [
    "import numpy as np\n",
    "import pandas as pd\n",
    "import matplotlib.pyplot as plt\n",
    "import seaborn as sns\n",
    "from nbresult import ChallengeResult"
   ]
  },
  {
   "cell_type": "markdown",
   "metadata": {},
   "source": [
    "## Data collection\n",
    "\n",
    "📝 **Load the `movie_popularity.csv` dataset from the provided this [URL](https://wagon-public-datasets.s3.amazonaws.com/certification_france_2021_q2/tv_movies_popularity.csv)**\n",
    "- First, check and remove the rows that may be complete duplicate from one another (we never know!)\n",
    "- Then, drop the columns that have too much missing values\n",
    "- Finally, drop the few remaining rows that have missing values\n",
    "- Store the result in a `DataFrame` named `data`"
   ]
  },
  {
   "cell_type": "code",
   "execution_count": 2,
   "metadata": {},
   "outputs": [
    {
     "data": {
      "text/plain": [
       "(6864, 17)"
      ]
     },
     "execution_count": 2,
     "metadata": {},
     "output_type": "execute_result"
    }
   ],
   "source": [
    "data = pd.read_csv('tv_movies_popularity.csv')\n",
    "\n",
    "data.shape"
   ]
  },
  {
   "cell_type": "code",
   "execution_count": 3,
   "metadata": {},
   "outputs": [
    {
     "data": {
      "text/html": [
       "<div>\n",
       "<style scoped>\n",
       "    .dataframe tbody tr th:only-of-type {\n",
       "        vertical-align: middle;\n",
       "    }\n",
       "\n",
       "    .dataframe tbody tr th {\n",
       "        vertical-align: top;\n",
       "    }\n",
       "\n",
       "    .dataframe thead th {\n",
       "        text-align: right;\n",
       "    }\n",
       "</style>\n",
       "<table border=\"1\" class=\"dataframe\">\n",
       "  <thead>\n",
       "    <tr style=\"text-align: right;\">\n",
       "      <th></th>\n",
       "      <th>original_title</th>\n",
       "      <th>title</th>\n",
       "      <th>popularity</th>\n",
       "      <th>release_date</th>\n",
       "      <th>duration_min</th>\n",
       "      <th>description</th>\n",
       "      <th>budget</th>\n",
       "      <th>revenue</th>\n",
       "      <th>original_language</th>\n",
       "      <th>status</th>\n",
       "      <th>number_of_awards_won</th>\n",
       "      <th>number_of_nominations</th>\n",
       "      <th>has_collection</th>\n",
       "      <th>all_genres</th>\n",
       "      <th>top_countries</th>\n",
       "      <th>number_of_top_productions</th>\n",
       "      <th>available_in_english</th>\n",
       "    </tr>\n",
       "  </thead>\n",
       "  <tbody>\n",
       "    <tr>\n",
       "      <th>0</th>\n",
       "      <td>Hot Tub Time Machine 2</td>\n",
       "      <td>Hot Tub Time Machine 2</td>\n",
       "      <td>6.575393</td>\n",
       "      <td>2015-02-20</td>\n",
       "      <td>93.0</td>\n",
       "      <td>When Lou's shot in the groin, Nick and Jacob d...</td>\n",
       "      <td>14000000</td>\n",
       "      <td>12314651.0</td>\n",
       "      <td>en</td>\n",
       "      <td>Released</td>\n",
       "      <td>0</td>\n",
       "      <td>2</td>\n",
       "      <td>1</td>\n",
       "      <td>Comedy</td>\n",
       "      <td>United States of America</td>\n",
       "      <td>3</td>\n",
       "      <td>True</td>\n",
       "    </tr>\n",
       "    <tr>\n",
       "      <th>1</th>\n",
       "      <td>The Princess Diaries 2: Royal Engagement</td>\n",
       "      <td>The Princess Diaries 2: Royal Engagement</td>\n",
       "      <td>8.248895</td>\n",
       "      <td>2004-08-06</td>\n",
       "      <td>113.0</td>\n",
       "      <td>Now settled in Genovia, Princess Mia faces a n...</td>\n",
       "      <td>40000000</td>\n",
       "      <td>95149435.0</td>\n",
       "      <td>en</td>\n",
       "      <td>Released</td>\n",
       "      <td>1</td>\n",
       "      <td>2</td>\n",
       "      <td>1</td>\n",
       "      <td>Comedy, Drama, Family, Romance</td>\n",
       "      <td>United States of America</td>\n",
       "      <td>1</td>\n",
       "      <td>True</td>\n",
       "    </tr>\n",
       "    <tr>\n",
       "      <th>2</th>\n",
       "      <td>Whiplash</td>\n",
       "      <td>Whiplash</td>\n",
       "      <td>64.299990</td>\n",
       "      <td>2014-10-10</td>\n",
       "      <td>105.0</td>\n",
       "      <td>A promising young drummer enrolls at a cut-thr...</td>\n",
       "      <td>3300000</td>\n",
       "      <td>13092000.0</td>\n",
       "      <td>en</td>\n",
       "      <td>Released</td>\n",
       "      <td>97</td>\n",
       "      <td>145</td>\n",
       "      <td>0</td>\n",
       "      <td>Drama</td>\n",
       "      <td>United States of America</td>\n",
       "      <td>0</td>\n",
       "      <td>True</td>\n",
       "    </tr>\n",
       "    <tr>\n",
       "      <th>3</th>\n",
       "      <td>Kahaani</td>\n",
       "      <td>Kahaani</td>\n",
       "      <td>3.174936</td>\n",
       "      <td>2012-03-09</td>\n",
       "      <td>122.0</td>\n",
       "      <td>A pregnant woman's search for her missing husb...</td>\n",
       "      <td>1200000</td>\n",
       "      <td>16000000.0</td>\n",
       "      <td>hi</td>\n",
       "      <td>Released</td>\n",
       "      <td>23</td>\n",
       "      <td>18</td>\n",
       "      <td>0</td>\n",
       "      <td>Drama, Thriller</td>\n",
       "      <td>India</td>\n",
       "      <td>0</td>\n",
       "      <td>True</td>\n",
       "    </tr>\n",
       "    <tr>\n",
       "      <th>4</th>\n",
       "      <td>The Possession</td>\n",
       "      <td>The Possession</td>\n",
       "      <td>7.286477</td>\n",
       "      <td>2012-08-30</td>\n",
       "      <td>92.0</td>\n",
       "      <td>A young girl buys an antique box at a yard sal...</td>\n",
       "      <td>14000000</td>\n",
       "      <td>85446075.0</td>\n",
       "      <td>en</td>\n",
       "      <td>Released</td>\n",
       "      <td>0</td>\n",
       "      <td>6</td>\n",
       "      <td>0</td>\n",
       "      <td>Horror, Thriller</td>\n",
       "      <td>Canada, United States of America</td>\n",
       "      <td>0</td>\n",
       "      <td>True</td>\n",
       "    </tr>\n",
       "  </tbody>\n",
       "</table>\n",
       "</div>"
      ],
      "text/plain": [
       "                             original_title  \\\n",
       "0                    Hot Tub Time Machine 2   \n",
       "1  The Princess Diaries 2: Royal Engagement   \n",
       "2                                  Whiplash   \n",
       "3                                   Kahaani   \n",
       "4                            The Possession   \n",
       "\n",
       "                                      title  popularity release_date  \\\n",
       "0                    Hot Tub Time Machine 2    6.575393   2015-02-20   \n",
       "1  The Princess Diaries 2: Royal Engagement    8.248895   2004-08-06   \n",
       "2                                  Whiplash   64.299990   2014-10-10   \n",
       "3                                   Kahaani    3.174936   2012-03-09   \n",
       "4                            The Possession    7.286477   2012-08-30   \n",
       "\n",
       "   duration_min                                        description    budget  \\\n",
       "0          93.0  When Lou's shot in the groin, Nick and Jacob d...  14000000   \n",
       "1         113.0  Now settled in Genovia, Princess Mia faces a n...  40000000   \n",
       "2         105.0  A promising young drummer enrolls at a cut-thr...   3300000   \n",
       "3         122.0  A pregnant woman's search for her missing husb...   1200000   \n",
       "4          92.0  A young girl buys an antique box at a yard sal...  14000000   \n",
       "\n",
       "      revenue original_language    status  number_of_awards_won  \\\n",
       "0  12314651.0                en  Released                     0   \n",
       "1  95149435.0                en  Released                     1   \n",
       "2  13092000.0                en  Released                    97   \n",
       "3  16000000.0                hi  Released                    23   \n",
       "4  85446075.0                en  Released                     0   \n",
       "\n",
       "   number_of_nominations  has_collection                      all_genres  \\\n",
       "0                      2               1                          Comedy   \n",
       "1                      2               1  Comedy, Drama, Family, Romance   \n",
       "2                    145               0                           Drama   \n",
       "3                     18               0                 Drama, Thriller   \n",
       "4                      6               0                Horror, Thriller   \n",
       "\n",
       "                      top_countries  number_of_top_productions  \\\n",
       "0          United States of America                          3   \n",
       "1          United States of America                          1   \n",
       "2          United States of America                          0   \n",
       "3                             India                          0   \n",
       "4  Canada, United States of America                          0   \n",
       "\n",
       "   available_in_english  \n",
       "0                  True  \n",
       "1                  True  \n",
       "2                  True  \n",
       "3                  True  \n",
       "4                  True  "
      ]
     },
     "execution_count": 3,
     "metadata": {},
     "output_type": "execute_result"
    }
   ],
   "source": [
    "data.head()"
   ]
  },
  {
   "cell_type": "code",
   "execution_count": 4,
   "metadata": {},
   "outputs": [
    {
     "data": {
      "text/plain": [
       "0       False\n",
       "1       False\n",
       "2       False\n",
       "3       False\n",
       "4       False\n",
       "        ...  \n",
       "6859     True\n",
       "6860     True\n",
       "6861     True\n",
       "6862     True\n",
       "6863     True\n",
       "Length: 6864, dtype: bool"
      ]
     },
     "execution_count": 4,
     "metadata": {},
     "output_type": "execute_result"
    }
   ],
   "source": [
    "data.duplicated(subset=None, keep='first')"
   ]
  },
  {
   "cell_type": "code",
   "execution_count": 5,
   "metadata": {
    "ExecuteTime": {
     "end_time": "2021-06-29T17:29:09.664618Z",
     "start_time": "2021-06-29T17:29:05.328223Z"
    },
    "slideshow": {
     "slide_type": "notes"
    },
    "tags": [
     "challengify"
    ]
   },
   "outputs": [
    {
     "data": {
      "text/plain": [
       "(6464, 17)"
      ]
     },
     "execution_count": 5,
     "metadata": {},
     "output_type": "execute_result"
    }
   ],
   "source": [
    "data.drop_duplicates(inplace=True)\n",
    "\n",
    "data.shape"
   ]
  },
  {
   "cell_type": "markdown",
   "metadata": {},
   "source": [
    "---\n",
    "#### Check missing values"
   ]
  },
  {
   "cell_type": "code",
   "execution_count": 6,
   "metadata": {},
   "outputs": [
    {
     "data": {
      "text/plain": [
       "original_title               0.000000\n",
       "title                        0.000155\n",
       "popularity                   0.000000\n",
       "release_date                 0.000000\n",
       "duration_min                 0.000000\n",
       "description                  0.000000\n",
       "budget                       0.000000\n",
       "revenue                      0.595142\n",
       "original_language            0.000000\n",
       "status                       0.000000\n",
       "number_of_awards_won         0.000000\n",
       "number_of_nominations        0.000000\n",
       "has_collection               0.000000\n",
       "all_genres                   0.000000\n",
       "top_countries                0.000000\n",
       "number_of_top_productions    0.000000\n",
       "available_in_english         0.000000\n",
       "dtype: float64"
      ]
     },
     "execution_count": 6,
     "metadata": {},
     "output_type": "execute_result"
    }
   ],
   "source": [
    "data.isnull().sum() / data.shape[0]"
   ]
  },
  {
   "cell_type": "markdown",
   "metadata": {},
   "source": [
    "> The revenue as more than 50% of missing values !\n",
    "\n",
    "    Feature to drop"
   ]
  },
  {
   "cell_type": "code",
   "execution_count": 7,
   "metadata": {},
   "outputs": [
    {
     "name": "stdout",
     "output_type": "stream",
     "text": [
      "(6464, 17)\n",
      "\n",
      "Modified dataframe without revenue. Shape : (6464, 16)\n"
     ]
    }
   ],
   "source": [
    "print(data.shape)\n",
    "print()\n",
    "\n",
    "data.drop(columns = 'revenue', inplace = True) # Drop revenue\n",
    "\n",
    "print('Modified dataframe without revenue. Shape : {}'.format(data.shape))"
   ]
  },
  {
   "cell_type": "code",
   "execution_count": 8,
   "metadata": {},
   "outputs": [],
   "source": [
    "data.dropna(axis=0, how='any', inplace=True) # drop rows with missing values"
   ]
  },
  {
   "cell_type": "code",
   "execution_count": 9,
   "metadata": {},
   "outputs": [
    {
     "data": {
      "text/plain": [
       "original_title               0.0\n",
       "title                        0.0\n",
       "popularity                   0.0\n",
       "release_date                 0.0\n",
       "duration_min                 0.0\n",
       "description                  0.0\n",
       "budget                       0.0\n",
       "original_language            0.0\n",
       "status                       0.0\n",
       "number_of_awards_won         0.0\n",
       "number_of_nominations        0.0\n",
       "has_collection               0.0\n",
       "all_genres                   0.0\n",
       "top_countries                0.0\n",
       "number_of_top_productions    0.0\n",
       "available_in_english         0.0\n",
       "dtype: float64"
      ]
     },
     "execution_count": 9,
     "metadata": {},
     "output_type": "execute_result"
    }
   ],
   "source": [
    "data.isnull().sum() / data.shape[0]"
   ]
  },
  {
   "cell_type": "markdown",
   "metadata": {},
   "source": [
    "> No more missing values in the dataset"
   ]
  },
  {
   "cell_type": "markdown",
   "metadata": {},
   "source": [
    "### 🧪 Run the following cell to save your results"
   ]
  },
  {
   "cell_type": "code",
   "execution_count": 20,
   "metadata": {
    "ExecuteTime": {
     "end_time": "2021-06-29T17:29:09.754301Z",
     "start_time": "2021-06-29T17:29:09.746171Z"
    }
   },
   "outputs": [],
   "source": [
    "from nbresult import ChallengeResult\n",
    "\n",
    "result = ChallengeResult(\n",
    "    \"data_cleaning\",\n",
    "    columns=data.columns,\n",
    "    cleaning=sum(data.isnull().sum()),\n",
    "    shape=data.shape)\n",
    "result.write()"
   ]
  },
  {
   "cell_type": "markdown",
   "metadata": {},
   "source": [
    "## Baseline model"
   ]
  },
  {
   "cell_type": "markdown",
   "metadata": {},
   "source": [
    "### The metric"
   ]
  },
  {
   "cell_type": "markdown",
   "metadata": {},
   "source": [
    "📝 **We want to predict `popularity`: Start by plotting a histogram of the target to visualize it**"
   ]
  },
  {
   "cell_type": "markdown",
   "metadata": {},
   "source": [
    "📝 **Which sklearn's scoring [metric](https://scikit-learn.org/stable/modules/model_evaluation.html) should we use if we want it to:**\n",
    "\n",
    "- Be better when greater (i.e. metric_good_model > metric_bad_model)\n",
    "- Penalize **more** an error between 10 and 20 compared with an error between 110 and 120\n",
    "- Said otherwise, what matter should be the **relative error ratio**, more than the absolute error difference\n",
    "\n",
    "Hint: the histogram plotted above should give you some intuition about it\n",
    "\n",
    "👉 Store its exact [sklearn scoring name](https://scikit-learn.org/stable/modules/model_evaluation.html) as `string` in the variable `scoring` below.\n",
    "\n",
    "🚨 You must use this metric for the rest of the challenge"
   ]
  },
  {
   "cell_type": "code",
   "execution_count": 10,
   "metadata": {},
   "outputs": [
    {
     "data": {
      "text/plain": [
       "count    6463.000000\n",
       "mean        9.440948\n",
       "std        12.708256\n",
       "min         0.096403\n",
       "25%         5.325670\n",
       "50%         8.075504\n",
       "75%        11.378155\n",
       "max       547.488298\n",
       "Name: popularity, dtype: float64"
      ]
     },
     "execution_count": 10,
     "metadata": {},
     "output_type": "execute_result"
    }
   ],
   "source": [
    "data.popularity.describe()"
   ]
  },
  {
   "cell_type": "code",
   "execution_count": 11,
   "metadata": {},
   "outputs": [
    {
     "data": {
      "text/plain": [
       "<AxesSubplot:xlabel='popularity', ylabel='Count'>"
      ]
     },
     "execution_count": 11,
     "metadata": {},
     "output_type": "execute_result"
    },
    {
     "data": {
      "image/png": "[encoded data removed]",
      "text/plain": [
       "<Figure size 432x288 with 1 Axes>"
      ]
     },
     "metadata": {
      "needs_background": "light"
     },
     "output_type": "display_data"
    }
   ],
   "source": [
    "sns.histplot(data.popularity)"
   ]
  },
  {
   "cell_type": "code",
   "execution_count": 12,
   "metadata": {
    "ExecuteTime": {
     "end_time": "2021-06-29T17:29:13.047468Z",
     "start_time": "2021-06-29T17:29:13.045265Z"
    },
    "slideshow": {
     "slide_type": "notes"
    },
    "tags": [
     "challengify"
    ]
   },
   "outputs": [],
   "source": [
    "scoring = 'r2'"
   ]
  },
  {
   "cell_type": "markdown",
   "metadata": {},
   "source": [
    "<details>\n",
    "    <summary>💡 Hint</summary>\n",
    "It is around here!\n",
    "<img src=\"scores.jpg\" width=200 height=400 />\n",
    "</details>"
   ]
  },
  {
   "cell_type": "markdown",
   "metadata": {},
   "source": [
    "### X,y"
   ]
  },
  {
   "cell_type": "markdown",
   "metadata": {},
   "source": [
    "**📝 Define `X` as the features Dataframe (keep all features) and `y` as the target Series.**"
   ]
  },
  {
   "cell_type": "code",
   "execution_count": 13,
   "metadata": {
    "ExecuteTime": {
     "end_time": "2021-06-29T17:29:13.054580Z",
     "start_time": "2021-06-29T17:29:13.049865Z"
    },
    "tags": [
     "challengify"
    ]
   },
   "outputs": [],
   "source": [
    "X = data.drop(columns = 'popularity')\n",
    "\n",
    "y = data.popularity"
   ]
  },
  {
   "cell_type": "markdown",
   "metadata": {},
   "source": [
    "### Basic pipeline"
   ]
  },
  {
   "cell_type": "markdown",
   "metadata": {},
   "source": [
    "📝 **Check unique values per features**"
   ]
  },
  {
   "cell_type": "code",
   "execution_count": 14,
   "metadata": {
    "ExecuteTime": {
     "end_time": "2021-06-29T17:29:13.074836Z",
     "start_time": "2021-06-29T17:29:13.062527Z"
    },
    "tags": [
     "challengify"
    ]
   },
   "outputs": [
    {
     "data": {
      "text/plain": [
       "original_title               6350\n",
       "title                        6337\n",
       "release_date                 4320\n",
       "duration_min                  152\n",
       "description                  6449\n",
       "budget                        636\n",
       "original_language              42\n",
       "status                          3\n",
       "number_of_awards_won          124\n",
       "number_of_nominations         180\n",
       "has_collection                  2\n",
       "all_genres                    745\n",
       "top_countries                 320\n",
       "number_of_top_productions       5\n",
       "available_in_english            2\n",
       "dtype: int64"
      ]
     },
     "execution_count": 14,
     "metadata": {},
     "output_type": "execute_result"
    }
   ],
   "source": [
    "X.nunique()"
   ]
  },
  {
   "cell_type": "markdown",
   "metadata": {},
   "source": [
    "In this baseline, let's forget about the columns below that are difficult to process"
   ]
  },
  {
   "cell_type": "code",
   "execution_count": 15,
   "metadata": {
    "ExecuteTime": {
     "end_time": "2021-06-29T17:29:13.102327Z",
     "start_time": "2021-06-29T17:29:13.099066Z"
    }
   },
   "outputs": [],
   "source": [
    "text = ['description', 'original_title', 'title']\n",
    "dates = ['release_date']"
   ]
  },
  {
   "cell_type": "code",
   "execution_count": 16,
   "metadata": {},
   "outputs": [],
   "source": [
    "X.drop(columns=text, inplace = True)\n",
    "\n",
    "X.drop(columns=dates, inplace = True)"
   ]
  },
  {
   "cell_type": "code",
   "execution_count": 17,
   "metadata": {},
   "outputs": [
    {
     "data": {
      "text/plain": [
       "(6463, 11)"
      ]
     },
     "execution_count": 17,
     "metadata": {},
     "output_type": "execute_result"
    }
   ],
   "source": [
    "X.shape"
   ]
  },
  {
   "cell_type": "markdown",
   "metadata": {},
   "source": [
    "We will simply scale the numerical features and one-hot-encode the categorical ones remaining\n",
    "\n",
    "📝 **Prepare 2 `list`s of features names as `str`**:\n",
    "- `numerical` which contains **only** numerical features\n",
    "- `categorical` which contains **only** categorical features (exept text and dates above)"
   ]
  },
  {
   "cell_type": "code",
   "execution_count": 42,
   "metadata": {
    "ExecuteTime": {
     "end_time": "2021-06-29T17:29:13.107916Z",
     "start_time": "2021-06-29T17:29:13.104876Z"
    },
    "tags": [
     "challengify"
    ]
   },
   "outputs": [
    {
     "data": {
      "text/plain": [
       "duration_min                 float64\n",
       "budget                         int64\n",
       "original_language             object\n",
       "status                        object\n",
       "number_of_awards_won           int64\n",
       "number_of_nominations          int64\n",
       "has_collection                 int64\n",
       "all_genres                    object\n",
       "top_countries                 object\n",
       "number_of_top_productions      int64\n",
       "available_in_english            bool\n",
       "dtype: object"
      ]
     },
     "execution_count": 42,
     "metadata": {},
     "output_type": "execute_result"
    }
   ],
   "source": [
    "X.dtypes"
   ]
  },
  {
   "cell_type": "code",
   "execution_count": 18,
   "metadata": {},
   "outputs": [],
   "source": [
    "numerical = list(X.select_dtypes(include=['float64', 'int64']).columns)\n",
    "\n",
    "categorical = list(X.select_dtypes(exclude=['float64', 'int64']).columns)"
   ]
  },
  {
   "cell_type": "markdown",
   "metadata": {},
   "source": [
    "### Pipelining\n",
    "\n",
    "You are going to build a basic pipeline made of a basic preprocessing and a trees-based model of your choice."
   ]
  },
  {
   "cell_type": "markdown",
   "metadata": {},
   "source": [
    "#### Preprocessing pipeline\n",
    "\n",
    "**📝 Create a basic preprocessing pipeline for the 2 types of features above:**\n",
    "- It should scale the `numerical` features\n",
    "- one-hot-encode the `categorical` and `boolean` features\n",
    "- drop the others\n",
    "- Store your pipeline in a `basic_preprocessing` variable"
   ]
  },
  {
   "cell_type": "code",
   "execution_count": 19,
   "metadata": {
    "ExecuteTime": {
     "end_time": "2021-06-29T17:29:13.475427Z",
     "start_time": "2021-06-29T17:29:13.109926Z"
    }
   },
   "outputs": [],
   "source": [
    "# Execute this cell to enable a nice display for your pipelines\n",
    "from sklearn import set_config; set_config(display='diagram')"
   ]
  },
  {
   "cell_type": "code",
   "execution_count": 20,
   "metadata": {},
   "outputs": [
    {
     "data": {
      "text/plain": [
       "['duration_min',\n",
       " 'budget',\n",
       " 'number_of_awards_won',\n",
       " 'number_of_nominations',\n",
       " 'has_collection',\n",
       " 'number_of_top_productions']"
      ]
     },
     "execution_count": 20,
     "metadata": {},
     "output_type": "execute_result"
    }
   ],
   "source": [
    "numerical"
   ]
  },
  {
   "cell_type": "code",
   "execution_count": 21,
   "metadata": {},
   "outputs": [
    {
     "data": {
      "text/plain": [
       "(6463, 6)"
      ]
     },
     "execution_count": 21,
     "metadata": {},
     "output_type": "execute_result"
    }
   ],
   "source": [
    "X[numerical].shape"
   ]
  },
  {
   "cell_type": "code",
   "execution_count": 73,
   "metadata": {},
   "outputs": [
    {
     "data": {
      "text/plain": [
       "<AxesSubplot:>"
      ]
     },
     "execution_count": 73,
     "metadata": {},
     "output_type": "execute_result"
    },
    {
     "data": {
      "image/png": "[encoded data removed]",
      "text/plain": [
       "<Figure size 432x288 with 1 Axes>"
      ]
     },
     "metadata": {
      "needs_background": "light"
     },
     "output_type": "display_data"
    }
   ],
   "source": [
    "sns.boxplot(data = X[numerical], orient='h') # with budget"
   ]
  },
  {
   "cell_type": "markdown",
   "metadata": {},
   "source": [
    "> The values for budget are to high to observe the other features"
   ]
  },
  {
   "cell_type": "code",
   "execution_count": 71,
   "metadata": {
    "ExecuteTime": {
     "end_time": "2021-06-29T17:29:13.497003Z",
     "start_time": "2021-06-29T17:29:13.477748Z"
    },
    "tags": [
     "challengify"
    ]
   },
   "outputs": [
    {
     "data": {
      "text/plain": [
       "<AxesSubplot:>"
      ]
     },
     "execution_count": 71,
     "metadata": {},
     "output_type": "execute_result"
    },
    {
     "data": {
      "image/png": "[encoded data removed]",
      "text/plain": [
       "<Figure size 432x288 with 1 Axes>"
      ]
     },
     "metadata": {
      "needs_background": "light"
     },
     "output_type": "display_data"
    }
   ],
   "source": [
    "numerical_Withoutbudget = ['duration_min',\n",
    " 'number_of_awards_won',\n",
    " 'number_of_nominations',\n",
    " 'has_collection',\n",
    " 'number_of_top_productions']\n",
    "\n",
    "sns.boxplot(data = X[numerical_Withoutbudget], orient='h') # without budget"
   ]
  },
  {
   "cell_type": "markdown",
   "metadata": {},
   "source": [
    "> We can observe a lot of outliers : We will use the robustscaler to scale the numerical features"
   ]
  },
  {
   "cell_type": "markdown",
   "metadata": {},
   "source": [
    "**📝 Encode the features and store the result in the variable `X_basic_preprocessing`.**"
   ]
  },
  {
   "cell_type": "code",
   "execution_count": 22,
   "metadata": {},
   "outputs": [],
   "source": [
    "from sklearn.preprocessing import OneHotEncoder\n",
    "from sklearn.preprocessing import RobustScaler\n",
    "from sklearn.pipeline import Pipeline\n",
    "from sklearn.compose import ColumnTransformer\n",
    "from sklearn.compose import make_column_selector\n",
    "from sklearn.linear_model import Lasso"
   ]
  },
  {
   "cell_type": "code",
   "execution_count": 23,
   "metadata": {},
   "outputs": [
    {
     "data": {
      "text/html": [
       "<style>div.sk-top-container {color: black;background-color: white;}div.sk-toggleable {background-color: white;}label.sk-toggleable__label {cursor: pointer;display: block;width: 100%;margin-bottom: 0;padding: 0.2em 0.3em;box-sizing: border-box;text-align: center;}div.sk-toggleable__content {max-height: 0;max-width: 0;overflow: hidden;text-align: left;background-color: #f0f8ff;}div.sk-toggleable__content pre {margin: 0.2em;color: black;border-radius: 0.25em;background-color: #f0f8ff;}input.sk-toggleable__control:checked~div.sk-toggleable__content {max-height: 200px;max-width: 100%;overflow: auto;}div.sk-estimator input.sk-toggleable__control:checked~label.sk-toggleable__label {background-color: #d4ebff;}div.sk-label input.sk-toggleable__control:checked~label.sk-toggleable__label {background-color: #d4ebff;}input.sk-hidden--visually {border: 0;clip: rect(1px 1px 1px 1px);clip: rect(1px, 1px, 1px, 1px);height: 1px;margin: -1px;overflow: hidden;padding: 0;position: absolute;width: 1px;}div.sk-estimator {font-family: monospace;background-color: #f0f8ff;margin: 0.25em 0.25em;border: 1px dotted black;border-radius: 0.25em;box-sizing: border-box;}div.sk-estimator:hover {background-color: #d4ebff;}div.sk-parallel-item::after {content: \"\";width: 100%;border-bottom: 1px solid gray;flex-grow: 1;}div.sk-label:hover label.sk-toggleable__label {background-color: #d4ebff;}div.sk-serial::before {content: \"\";position: absolute;border-left: 1px solid gray;box-sizing: border-box;top: 2em;bottom: 0;left: 50%;}div.sk-serial {display: flex;flex-direction: column;align-items: center;background-color: white;}div.sk-item {z-index: 1;}div.sk-parallel {display: flex;align-items: stretch;justify-content: center;background-color: white;}div.sk-parallel-item {display: flex;flex-direction: column;position: relative;background-color: white;}div.sk-parallel-item:first-child::after {align-self: flex-end;width: 50%;}div.sk-parallel-item:last-child::after {align-self: flex-start;width: 50%;}div.sk-parallel-item:only-child::after {width: 0;}div.sk-dashed-wrapped {border: 1px dashed gray;margin: 0.2em;box-sizing: border-box;padding-bottom: 0.1em;background-color: white;position: relative;}div.sk-label label {font-family: monospace;font-weight: bold;background-color: white;display: inline-block;line-height: 1.2em;}div.sk-label-container {position: relative;z-index: 2;text-align: center;}div.sk-container {display: inline-block;position: relative;}</style><div class=\"sk-top-container\"><div class=\"sk-container\"><div class=\"sk-item sk-dashed-wrapped\"><div class=\"sk-label-container\"><div class=\"sk-label sk-toggleable\"><input class=\"sk-toggleable__control sk-hidden--visually\" id=\"9ede9016-4927-4229-b15e-3d8ea545b4e6\" type=\"checkbox\" ><label class=\"sk-toggleable__label\" for=\"9ede9016-4927-4229-b15e-3d8ea545b4e6\">ColumnTransformer</label><div class=\"sk-toggleable__content\"><pre>ColumnTransformer(transformers=[('numerical_scaler', RobustScaler(),\n",
       "                                 <sklearn.compose._column_transformer.make_column_selector object at 0x7f4dc0512d60>),\n",
       "                                ('categorical_scaler',\n",
       "                                 OneHotEncoder(handle_unknown='ignore',\n",
       "                                               sparse=False),\n",
       "                                 <sklearn.compose._column_transformer.make_column_selector object at 0x7f4dc0512e20>)])</pre></div></div></div><div class=\"sk-parallel\"><div class=\"sk-parallel-item\"><div class=\"sk-item\"><div class=\"sk-label-container\"><div class=\"sk-label sk-toggleable\"><input class=\"sk-toggleable__control sk-hidden--visually\" id=\"4c189072-d106-40a2-b041-54ed67ae5450\" type=\"checkbox\" ><label class=\"sk-toggleable__label\" for=\"4c189072-d106-40a2-b041-54ed67ae5450\">numerical_scaler</label><div class=\"sk-toggleable__content\"><pre><sklearn.compose._column_transformer.make_column_selector object at 0x7f4dc0512d60></pre></div></div></div><div class=\"sk-serial\"><div class=\"sk-item\"><div class=\"sk-estimator sk-toggleable\"><input class=\"sk-toggleable__control sk-hidden--visually\" id=\"c966f776-381a-43ea-bc01-86eb3b222d24\" type=\"checkbox\" ><label class=\"sk-toggleable__label\" for=\"c966f776-381a-43ea-bc01-86eb3b222d24\">RobustScaler</label><div class=\"sk-toggleable__content\"><pre>RobustScaler()</pre></div></div></div></div></div></div><div class=\"sk-parallel-item\"><div class=\"sk-item\"><div class=\"sk-label-container\"><div class=\"sk-label sk-toggleable\"><input class=\"sk-toggleable__control sk-hidden--visually\" id=\"e2638be4-5461-4e5d-88c2-dcac7fb10c2d\" type=\"checkbox\" ><label class=\"sk-toggleable__label\" for=\"e2638be4-5461-4e5d-88c2-dcac7fb10c2d\">categorical_scaler</label><div class=\"sk-toggleable__content\"><pre><sklearn.compose._column_transformer.make_column_selector object at 0x7f4dc0512e20></pre></div></div></div><div class=\"sk-serial\"><div class=\"sk-item\"><div class=\"sk-estimator sk-toggleable\"><input class=\"sk-toggleable__control sk-hidden--visually\" id=\"9e591c79-3362-4819-924b-9268c42322e4\" type=\"checkbox\" ><label class=\"sk-toggleable__label\" for=\"9e591c79-3362-4819-924b-9268c42322e4\">OneHotEncoder</label><div class=\"sk-toggleable__content\"><pre>OneHotEncoder(handle_unknown='ignore', sparse=False)</pre></div></div></div></div></div></div></div></div></div></div>"
      ],
      "text/plain": [
       "ColumnTransformer(transformers=[('numerical_scaler', RobustScaler(),\n",
       "                                 <sklearn.compose._column_transformer.make_column_selector object at 0x7f4dc0512d60>),\n",
       "                                ('categorical_scaler',\n",
       "                                 OneHotEncoder(handle_unknown='ignore',\n",
       "                                               sparse=False),\n",
       "                                 <sklearn.compose._column_transformer.make_column_selector object at 0x7f4dc0512e20>)])"
      ]
     },
     "execution_count": 23,
     "metadata": {},
     "output_type": "execute_result"
    }
   ],
   "source": [
    "basic_preprocessing = ColumnTransformer([\n",
    "    ('numerical_scaler', RobustScaler(), make_column_selector(dtype_include=['float64', 'int64'])),\n",
    "    ('categorical_scaler', OneHotEncoder(handle_unknown='ignore', sparse=False), make_column_selector(dtype_exclude=['float64', 'int64']))\n",
    "])\n",
    "\n",
    "basic_preprocessing"
   ]
  },
  {
   "cell_type": "code",
   "execution_count": 16,
   "metadata": {
    "ExecuteTime": {
     "end_time": "2021-06-29T17:29:13.523938Z",
     "start_time": "2021-06-29T17:29:13.499042Z"
    },
    "tags": [
     "challengify"
    ]
   },
   "outputs": [
    {
     "data": {
      "text/html": [
       "<div>\n",
       "<style scoped>\n",
       "    .dataframe tbody tr th:only-of-type {\n",
       "        vertical-align: middle;\n",
       "    }\n",
       "\n",
       "    .dataframe tbody tr th {\n",
       "        vertical-align: top;\n",
       "    }\n",
       "\n",
       "    .dataframe thead th {\n",
       "        text-align: right;\n",
       "    }\n",
       "</style>\n",
       "<table border=\"1\" class=\"dataframe\">\n",
       "  <thead>\n",
       "    <tr style=\"text-align: right;\">\n",
       "      <th></th>\n",
       "      <th>0</th>\n",
       "      <th>1</th>\n",
       "      <th>2</th>\n",
       "      <th>3</th>\n",
       "      <th>4</th>\n",
       "      <th>5</th>\n",
       "      <th>6</th>\n",
       "      <th>7</th>\n",
       "      <th>8</th>\n",
       "      <th>9</th>\n",
       "      <th>...</th>\n",
       "      <th>24564</th>\n",
       "      <th>24565</th>\n",
       "      <th>24566</th>\n",
       "      <th>24567</th>\n",
       "      <th>24568</th>\n",
       "      <th>24569</th>\n",
       "      <th>24570</th>\n",
       "      <th>24571</th>\n",
       "      <th>24572</th>\n",
       "      <th>24573</th>\n",
       "    </tr>\n",
       "  </thead>\n",
       "  <tbody>\n",
       "    <tr>\n",
       "      <th>0</th>\n",
       "      <td>-0.500000</td>\n",
       "      <td>0.093684</td>\n",
       "      <td>-0.333333</td>\n",
       "      <td>-0.250000</td>\n",
       "      <td>1.0</td>\n",
       "      <td>2.0</td>\n",
       "      <td>0.0</td>\n",
       "      <td>0.0</td>\n",
       "      <td>0.0</td>\n",
       "      <td>0.0</td>\n",
       "      <td>...</td>\n",
       "      <td>0.0</td>\n",
       "      <td>0.0</td>\n",
       "      <td>0.0</td>\n",
       "      <td>0.0</td>\n",
       "      <td>0.0</td>\n",
       "      <td>0.0</td>\n",
       "      <td>1.0</td>\n",
       "      <td>0.0</td>\n",
       "      <td>0.0</td>\n",
       "      <td>1.0</td>\n",
       "    </tr>\n",
       "    <tr>\n",
       "      <th>1</th>\n",
       "      <td>0.333333</td>\n",
       "      <td>0.905609</td>\n",
       "      <td>-0.166667</td>\n",
       "      <td>-0.250000</td>\n",
       "      <td>1.0</td>\n",
       "      <td>0.0</td>\n",
       "      <td>0.0</td>\n",
       "      <td>0.0</td>\n",
       "      <td>0.0</td>\n",
       "      <td>0.0</td>\n",
       "      <td>...</td>\n",
       "      <td>0.0</td>\n",
       "      <td>0.0</td>\n",
       "      <td>0.0</td>\n",
       "      <td>0.0</td>\n",
       "      <td>0.0</td>\n",
       "      <td>0.0</td>\n",
       "      <td>1.0</td>\n",
       "      <td>0.0</td>\n",
       "      <td>0.0</td>\n",
       "      <td>1.0</td>\n",
       "    </tr>\n",
       "    <tr>\n",
       "      <th>2</th>\n",
       "      <td>0.000000</td>\n",
       "      <td>-0.240455</td>\n",
       "      <td>15.833333</td>\n",
       "      <td>11.666667</td>\n",
       "      <td>0.0</td>\n",
       "      <td>-1.0</td>\n",
       "      <td>0.0</td>\n",
       "      <td>0.0</td>\n",
       "      <td>0.0</td>\n",
       "      <td>0.0</td>\n",
       "      <td>...</td>\n",
       "      <td>0.0</td>\n",
       "      <td>0.0</td>\n",
       "      <td>0.0</td>\n",
       "      <td>0.0</td>\n",
       "      <td>0.0</td>\n",
       "      <td>0.0</td>\n",
       "      <td>1.0</td>\n",
       "      <td>0.0</td>\n",
       "      <td>0.0</td>\n",
       "      <td>1.0</td>\n",
       "    </tr>\n",
       "    <tr>\n",
       "      <th>3</th>\n",
       "      <td>0.708333</td>\n",
       "      <td>-0.306033</td>\n",
       "      <td>3.500000</td>\n",
       "      <td>1.083333</td>\n",
       "      <td>0.0</td>\n",
       "      <td>-1.0</td>\n",
       "      <td>0.0</td>\n",
       "      <td>0.0</td>\n",
       "      <td>0.0</td>\n",
       "      <td>0.0</td>\n",
       "      <td>...</td>\n",
       "      <td>0.0</td>\n",
       "      <td>0.0</td>\n",
       "      <td>0.0</td>\n",
       "      <td>0.0</td>\n",
       "      <td>0.0</td>\n",
       "      <td>0.0</td>\n",
       "      <td>0.0</td>\n",
       "      <td>0.0</td>\n",
       "      <td>0.0</td>\n",
       "      <td>1.0</td>\n",
       "    </tr>\n",
       "    <tr>\n",
       "      <th>4</th>\n",
       "      <td>-0.541667</td>\n",
       "      <td>0.093684</td>\n",
       "      <td>-0.333333</td>\n",
       "      <td>0.083333</td>\n",
       "      <td>0.0</td>\n",
       "      <td>-1.0</td>\n",
       "      <td>0.0</td>\n",
       "      <td>0.0</td>\n",
       "      <td>0.0</td>\n",
       "      <td>0.0</td>\n",
       "      <td>...</td>\n",
       "      <td>0.0</td>\n",
       "      <td>0.0</td>\n",
       "      <td>0.0</td>\n",
       "      <td>0.0</td>\n",
       "      <td>0.0</td>\n",
       "      <td>0.0</td>\n",
       "      <td>0.0</td>\n",
       "      <td>0.0</td>\n",
       "      <td>0.0</td>\n",
       "      <td>1.0</td>\n",
       "    </tr>\n",
       "  </tbody>\n",
       "</table>\n",
       "<p>5 rows × 24574 columns</p>\n",
       "</div>"
      ],
      "text/plain": [
       "      0         1          2          3      4      5      6      7      \\\n",
       "0 -0.500000  0.093684  -0.333333  -0.250000    1.0    2.0    0.0    0.0   \n",
       "1  0.333333  0.905609  -0.166667  -0.250000    1.0    0.0    0.0    0.0   \n",
       "2  0.000000 -0.240455  15.833333  11.666667    0.0   -1.0    0.0    0.0   \n",
       "3  0.708333 -0.306033   3.500000   1.083333    0.0   -1.0    0.0    0.0   \n",
       "4 -0.541667  0.093684  -0.333333   0.083333    0.0   -1.0    0.0    0.0   \n",
       "\n",
       "   8      9      ...  24564  24565  24566  24567  24568  24569  24570  24571  \\\n",
       "0    0.0    0.0  ...    0.0    0.0    0.0    0.0    0.0    0.0    1.0    0.0   \n",
       "1    0.0    0.0  ...    0.0    0.0    0.0    0.0    0.0    0.0    1.0    0.0   \n",
       "2    0.0    0.0  ...    0.0    0.0    0.0    0.0    0.0    0.0    1.0    0.0   \n",
       "3    0.0    0.0  ...    0.0    0.0    0.0    0.0    0.0    0.0    0.0    0.0   \n",
       "4    0.0    0.0  ...    0.0    0.0    0.0    0.0    0.0    0.0    0.0    0.0   \n",
       "\n",
       "   24572  24573  \n",
       "0    0.0    1.0  \n",
       "1    0.0    1.0  \n",
       "2    0.0    1.0  \n",
       "3    0.0    1.0  \n",
       "4    0.0    1.0  \n",
       "\n",
       "[5 rows x 24574 columns]"
      ]
     },
     "execution_count": 16,
     "metadata": {},
     "output_type": "execute_result"
    }
   ],
   "source": [
    "pd.DataFrame(basic_preprocessing.fit_transform(X)).head()"
   ]
  },
  {
   "cell_type": "markdown",
   "metadata": {},
   "source": [
    "**❓ How many features has been generated by the preprocessing? What do you think about this number?**"
   ]
  },
  {
   "cell_type": "markdown",
   "metadata": {
    "tags": [
     "challengify"
    ]
   },
   "source": [
    "> The preprocessing generated more than 1000 features. This number is massive."
   ]
  },
  {
   "cell_type": "code",
   "execution_count": 24,
   "metadata": {},
   "outputs": [],
   "source": [
    "X_basic_preprocessing = pd.DataFrame(basic_preprocessing.fit_transform(X))"
   ]
  },
  {
   "cell_type": "markdown",
   "metadata": {},
   "source": [
    "#### Modeling pipeline\n",
    "\n",
    "Let's add a model to our pipe. With so many features one-hot-encoded, we **need a model which can act as a feature selector**\n",
    "\n",
    "👉 A linear model regularized with L1 penalty is a good starting point.\n",
    "\n",
    "\n",
    "**📝 Create a `basic_pipeline` which encapsulate the `basic_preprocessing` pipeline + a linear model with a L1 penalty**\n",
    "\n",
    "- store the resulting pipeline as `basic_pipeline`\n",
    "- don't fine-tune it\n",
    "\n",
    "\n",
    "<details>\n",
    "    <summary>Hints</summary>\n",
    "\n",
    "Choose your model from the list [here](https://scikit-learn.org/stable/modules/classes.html#module-sklearn.linear_model)\n",
    "\n",
    "</details>"
   ]
  },
  {
   "cell_type": "code",
   "execution_count": 25,
   "metadata": {
    "ExecuteTime": {
     "end_time": "2021-06-29T17:29:13.614429Z",
     "start_time": "2021-06-29T17:29:13.609607Z"
    },
    "tags": [
     "challengify"
    ]
   },
   "outputs": [],
   "source": [
    "basic_pipeline = Pipeline([\n",
    "    ('preprocessing', basic_preprocessing),\n",
    "    ('linear_regression', Lasso())\n",
    "])"
   ]
  },
  {
   "cell_type": "markdown",
   "metadata": {},
   "source": [
    "### Cross-validated baseline\n",
    "\n",
    "**📝 Perform a cross-validated evaluation of your baseline model using the metric you defined above. Store the results of this evaluation as an `array` of floating scores in the `basic_scores` variable.**"
   ]
  },
  {
   "cell_type": "code",
   "execution_count": 41,
   "metadata": {},
   "outputs": [],
   "source": [
    "from sklearn.model_selection import cross_val_score"
   ]
  },
  {
   "cell_type": "code",
   "execution_count": 19,
   "metadata": {},
   "outputs": [
    {
     "data": {
      "text/plain": [
       "Pipeline(steps=[('preprocessing',\n",
       "                 ColumnTransformer(transformers=[('numerical_scaler',\n",
       "                                                  RobustScaler(),\n",
       "                                                  <sklearn.compose._column_transformer.make_column_selector object at 0x7f4c440c9ac0>),\n",
       "                                                 ('categorical_scaler',\n",
       "                                                  OneHotEncoder(handle_unknown='ignore',\n",
       "                                                                sparse=False),\n",
       "                                                  <sklearn.compose._column_transformer.make_column_selector object at 0x7f4c440c9b80>)])),\n",
       "                ('linear_regression', Lasso())])"
      ]
     },
     "execution_count": 19,
     "metadata": {},
     "output_type": "execute_result"
    }
   ],
   "source": [
    "basic_pipeline.fit(X, y)"
   ]
  },
  {
   "cell_type": "code",
   "execution_count": 20,
   "metadata": {
    "ExecuteTime": {
     "end_time": "2021-06-29T17:29:13.834847Z",
     "start_time": "2021-06-29T17:29:13.634994Z"
    },
    "tags": [
     "challengify"
    ]
   },
   "outputs": [
    {
     "name": "stdout",
     "output_type": "stream",
     "text": [
      "<class 'numpy.ndarray'>\n",
      "\n",
      "[0.1057806  0.18168139 0.1558145  0.08293721 0.17105506 0.20478273\n",
      " 0.14008584 0.20870529 0.0568242  0.18709721]\n"
     ]
    }
   ],
   "source": [
    "basic_scores = cross_val_score(basic_pipeline, X, y, cv=10, scoring='r2')\n",
    "\n",
    "print(type(basic_scores))\n",
    "print()\n",
    "print(basic_scores)"
   ]
  },
  {
   "cell_type": "markdown",
   "metadata": {},
   "source": [
    "### 🧪 Save your results\n",
    "\n",
    "Run the following cell to save your results"
   ]
  },
  {
   "cell_type": "code",
   "execution_count": 95,
   "metadata": {
    "ExecuteTime": {
     "end_time": "2021-06-29T17:29:13.848670Z",
     "start_time": "2021-06-29T17:29:13.844198Z"
    }
   },
   "outputs": [],
   "source": [
    "ChallengeResult(\n",
    "    'baseline',\n",
    "    metric=scoring,\n",
    "    features=[categorical,numerical],\n",
    "    preproc=basic_preprocessing,\n",
    "    preproc_shape=X_basic_preprocessing.shape,\n",
    "    pipe=basic_pipeline,\n",
    "    scores=basic_scores\n",
    ").write()"
   ]
  },
  {
   "cell_type": "markdown",
   "metadata": {},
   "source": [
    "## Feature engineering"
   ]
  },
  {
   "cell_type": "markdown",
   "metadata": {},
   "source": [
    "### Time Features\n",
    "\n",
    "\n",
    "👉 Let's try to improve performance using the feature `release_date`, and especially its `month` and `year`.\n",
    "\n",
    "ℹ️ If you want to skip this section, you can move directly to the next one: _Advanced categorical features_."
   ]
  },
  {
   "cell_type": "markdown",
   "metadata": {},
   "source": [
    "**📝 Complete the custom transformer `TimeFeaturesExtractor` below**\n",
    "\n",
    "Running\n",
    "```python\n",
    "TimeFeaturesExtractor().fit_transform(X[['release_date']])\n",
    "``` \n",
    "should return something like\n",
    "\n",
    "|    |   month |   year |\n",
    "|---:|--------:|-------:|\n",
    "|  0 |       2 |   2015 |\n",
    "|  1 |       8 |   2004 |\n",
    "|  2 |      10 |   2014 |\n",
    "|  3 |       3 |   2012 |\n",
    "|  4 |       8 |   2012 |\n"
   ]
  },
  {
   "cell_type": "code",
   "execution_count": 28,
   "metadata": {},
   "outputs": [],
   "source": [
    "X = data.drop(columns = 'popularity')\n",
    "\n",
    "X.drop(columns=text, inplace = True)"
   ]
  },
  {
   "cell_type": "code",
   "execution_count": 29,
   "metadata": {
    "ExecuteTime": {
     "end_time": "2021-06-29T17:29:13.859554Z",
     "start_time": "2021-06-29T17:29:13.855428Z"
    }
   },
   "outputs": [],
   "source": [
    "from sklearn.base import BaseEstimator, TransformerMixin\n",
    "\n",
    "class TimeFeaturesExtractor(BaseEstimator, TransformerMixin):\n",
    "    \"\"\"Extract the 2 time features from a date\"\"\"\n",
    "    \n",
    "    def fit(self, X, y=None):\n",
    "        return self\n",
    "    \n",
    "    def transform(self, X, y=None):\n",
    "        \"\"\"\n",
    "        Params:\n",
    "        X: DataFrame\n",
    "        y: Series\n",
    "        \n",
    "        Returns a DataFrame with 2 columns containing the time features as integers extracted from the release_date.\n",
    "        \"\"\"\n",
    "        X['release_date'] = pd.to_datetime(X['release_date'])\n",
    "        df = pd.concat([X['release_date'].dt.strftime('%m'), X['release_date'].dt.strftime('%Y')], axis = 1)\n",
    "        df.columns = ['month', 'year']\n",
    "        return df"
   ]
  },
  {
   "cell_type": "code",
   "execution_count": 30,
   "metadata": {
    "ExecuteTime": {
     "end_time": "2021-06-29T17:29:13.877264Z",
     "start_time": "2021-06-29T17:29:13.862231Z"
    }
   },
   "outputs": [
    {
     "name": "stderr",
     "output_type": "stream",
     "text": [
      "<ipython-input-29-81eed84169ee>:17: SettingWithCopyWarning: \n",
      "A value is trying to be set on a copy of a slice from a DataFrame.\n",
      "Try using .loc[row_indexer,col_indexer] = value instead\n",
      "\n",
      "See the caveats in the documentation: https://pandas.pydata.org/pandas-docs/stable/user_guide/indexing.html#returning-a-view-versus-a-copy\n",
      "  X['release_date'] = pd.to_datetime(X['release_date'])\n"
     ]
    },
    {
     "data": {
      "text/html": [
       "<div>\n",
       "<style scoped>\n",
       "    .dataframe tbody tr th:only-of-type {\n",
       "        vertical-align: middle;\n",
       "    }\n",
       "\n",
       "    .dataframe tbody tr th {\n",
       "        vertical-align: top;\n",
       "    }\n",
       "\n",
       "    .dataframe thead th {\n",
       "        text-align: right;\n",
       "    }\n",
       "</style>\n",
       "<table border=\"1\" class=\"dataframe\">\n",
       "  <thead>\n",
       "    <tr style=\"text-align: right;\">\n",
       "      <th></th>\n",
       "      <th>month</th>\n",
       "      <th>year</th>\n",
       "    </tr>\n",
       "  </thead>\n",
       "  <tbody>\n",
       "    <tr>\n",
       "      <th>0</th>\n",
       "      <td>02</td>\n",
       "      <td>2015</td>\n",
       "    </tr>\n",
       "    <tr>\n",
       "      <th>1</th>\n",
       "      <td>08</td>\n",
       "      <td>2004</td>\n",
       "    </tr>\n",
       "    <tr>\n",
       "      <th>2</th>\n",
       "      <td>10</td>\n",
       "      <td>2014</td>\n",
       "    </tr>\n",
       "    <tr>\n",
       "      <th>3</th>\n",
       "      <td>03</td>\n",
       "      <td>2012</td>\n",
       "    </tr>\n",
       "    <tr>\n",
       "      <th>4</th>\n",
       "      <td>08</td>\n",
       "      <td>2012</td>\n",
       "    </tr>\n",
       "  </tbody>\n",
       "</table>\n",
       "</div>"
      ],
      "text/plain": [
       "  month  year\n",
       "0    02  2015\n",
       "1    08  2004\n",
       "2    10  2014\n",
       "3    03  2012\n",
       "4    08  2012"
      ]
     },
     "execution_count": 30,
     "metadata": {},
     "output_type": "execute_result"
    }
   ],
   "source": [
    "# Try your transformer and save your new features here\n",
    "X_time_features = TimeFeaturesExtractor().fit_transform(X[['release_date']])\n",
    "X_time_features.head()"
   ]
  },
  {
   "cell_type": "markdown",
   "metadata": {},
   "source": [
    "We still have 2 problems to solve\n",
    "- `month` is cyclical: 12 should be a close to 1 as to 11, right? \n",
    "- `year` is not scaled\n",
    "\n",
    "**📝 Build a final custom transformer `CyclicalEncoder` so that**\n",
    "\n",
    "Running\n",
    "```python\n",
    "CyclicalEncoder().fit_transform(X_time_features)\n",
    "``` \n",
    "should return something like this\n",
    "\n",
    "|    |    month_cos |   month_sin |      year |\n",
    "|---:|-------------:|------------:|----------:|\n",
    "|  0 |  0.5         |    0.866025 | 0.0466039 |\n",
    "|  1 | -0.5         |   -0.866025 | 0.0411502 |\n",
    "|  2 |  0.5         |   -0.866025 | 0.0461081 |\n",
    "|  3 |  6.12323e-17 |    1        | 0.0451165 |\n",
    "|  4 | -0.5         |   -0.866025 | 0.0451165 |\n",
    "\n",
    "With the cyclical encoding is done as below\n",
    "- `month_cos = 2 * math.pi / 12 * X[['month']] `\n",
    "- `month_sin = 2 * math.pi / 12 * X[['month']] `\n",
    "\n",
    "And the `year` begin min-max scaled"
   ]
  },
  {
   "cell_type": "code",
   "execution_count": 37,
   "metadata": {
    "ExecuteTime": {
     "end_time": "2021-06-29T17:29:13.884690Z",
     "start_time": "2021-06-29T17:29:13.879274Z"
    }
   },
   "outputs": [],
   "source": [
    "from sklearn.base import BaseEstimator, TransformerMixin\n",
    "from sklearn.preprocessing import MinMaxScaler\n",
    "import math\n",
    "\n",
    "class CyclicalEncoder(BaseEstimator, TransformerMixin):\n",
    "    \"\"\"\n",
    "    Encode a cyclical feature\n",
    "    \"\"\"\n",
    "    \n",
    "    def __init__(self):\n",
    "        self.scaler = None\n",
    "\n",
    "    def fit(self, X, y=None):\n",
    "        \"\"\"\n",
    "        Compute here what you need for the transform phase and store it as instance variable\n",
    "        \"\"\"\n",
    "        scaler = MinMaxScaler()\n",
    "        self.scaler = scaler.fit(np.array(X[['year']]).reshape(-1, 1))\n",
    "        return self.scaler\n",
    "\n",
    "    def transform(self, X, y=None):\n",
    "        month_cos = np.cos(2 * math.pi / 12 * X[['month']])\n",
    "        month_sin = np.sin(2 * math.pi / 12 * X[['month']])\n",
    "        year = self.scaler.transform(np.array(X[['year']]).reshape(-1, 1))\n",
    "        return pd.concat([month_cos, month_sin, year], axis = 1)\n",
    "        "
   ]
  },
  {
   "cell_type": "code",
   "execution_count": 38,
   "metadata": {
    "ExecuteTime": {
     "end_time": "2021-06-29T17:29:13.899004Z",
     "start_time": "2021-06-29T17:29:13.886894Z"
    },
    "collapsed": true,
    "jupyter": {
     "outputs_hidden": true
    }
   },
   "outputs": [
    {
     "ename": "ValueError",
     "evalue": "X has 2 features, but MinMaxScaler is expecting 1 features as input.",
     "output_type": "error",
     "traceback": [
      "\u001b[0;31m---------------------------------------------------------------------------\u001b[0m",
      "\u001b[0;31mValueError\u001b[0m                                Traceback (most recent call last)",
      "\u001b[0;32m<ipython-input-38-6f591d85611a>\u001b[0m in \u001b[0;36m<module>\u001b[0;34m\u001b[0m\n\u001b[1;32m      1\u001b[0m \u001b[0;31m# Try your transformer and save your new features here\u001b[0m\u001b[0;34m\u001b[0m\u001b[0;34m\u001b[0m\u001b[0;34m\u001b[0m\u001b[0m\n\u001b[0;32m----> 2\u001b[0;31m \u001b[0mX_time_cyclical\u001b[0m \u001b[0;34m=\u001b[0m \u001b[0mCyclicalEncoder\u001b[0m\u001b[0;34m(\u001b[0m\u001b[0;34m)\u001b[0m\u001b[0;34m.\u001b[0m\u001b[0mfit_transform\u001b[0m\u001b[0;34m(\u001b[0m\u001b[0mX_time_features\u001b[0m\u001b[0;34m)\u001b[0m\u001b[0;34m\u001b[0m\u001b[0;34m\u001b[0m\u001b[0m\n\u001b[0m\u001b[1;32m      3\u001b[0m \u001b[0mX_time_cyclical\u001b[0m\u001b[0;34m.\u001b[0m\u001b[0mhead\u001b[0m\u001b[0;34m(\u001b[0m\u001b[0;34m)\u001b[0m\u001b[0;34m\u001b[0m\u001b[0;34m\u001b[0m\u001b[0m\n",
      "\u001b[0;32m~/.pyenv/versions/3.8.5/envs/lewagon/lib/python3.8/site-packages/sklearn/base.py\u001b[0m in \u001b[0;36mfit_transform\u001b[0;34m(self, X, y, **fit_params)\u001b[0m\n\u001b[1;32m    697\u001b[0m         \u001b[0;32mif\u001b[0m \u001b[0my\u001b[0m \u001b[0;32mis\u001b[0m \u001b[0;32mNone\u001b[0m\u001b[0;34m:\u001b[0m\u001b[0;34m\u001b[0m\u001b[0;34m\u001b[0m\u001b[0m\n\u001b[1;32m    698\u001b[0m             \u001b[0;31m# fit method of arity 1 (unsupervised transformation)\u001b[0m\u001b[0;34m\u001b[0m\u001b[0;34m\u001b[0m\u001b[0;34m\u001b[0m\u001b[0m\n\u001b[0;32m--> 699\u001b[0;31m             \u001b[0;32mreturn\u001b[0m \u001b[0mself\u001b[0m\u001b[0;34m.\u001b[0m\u001b[0mfit\u001b[0m\u001b[0;34m(\u001b[0m\u001b[0mX\u001b[0m\u001b[0;34m,\u001b[0m \u001b[0;34m**\u001b[0m\u001b[0mfit_params\u001b[0m\u001b[0;34m)\u001b[0m\u001b[0;34m.\u001b[0m\u001b[0mtransform\u001b[0m\u001b[0;34m(\u001b[0m\u001b[0mX\u001b[0m\u001b[0;34m)\u001b[0m\u001b[0;34m\u001b[0m\u001b[0;34m\u001b[0m\u001b[0m\n\u001b[0m\u001b[1;32m    700\u001b[0m         \u001b[0;32melse\u001b[0m\u001b[0;34m:\u001b[0m\u001b[0;34m\u001b[0m\u001b[0;34m\u001b[0m\u001b[0m\n\u001b[1;32m    701\u001b[0m             \u001b[0;31m# fit method of arity 2 (supervised transformation)\u001b[0m\u001b[0;34m\u001b[0m\u001b[0;34m\u001b[0m\u001b[0;34m\u001b[0m\u001b[0m\n",
      "\u001b[0;32m~/.pyenv/versions/3.8.5/envs/lewagon/lib/python3.8/site-packages/sklearn/preprocessing/_data.py\u001b[0m in \u001b[0;36mtransform\u001b[0;34m(self, X)\u001b[0m\n\u001b[1;32m    432\u001b[0m         \u001b[0mcheck_is_fitted\u001b[0m\u001b[0;34m(\u001b[0m\u001b[0mself\u001b[0m\u001b[0;34m)\u001b[0m\u001b[0;34m\u001b[0m\u001b[0;34m\u001b[0m\u001b[0m\n\u001b[1;32m    433\u001b[0m \u001b[0;34m\u001b[0m\u001b[0m\n\u001b[0;32m--> 434\u001b[0;31m         X = self._validate_data(X, copy=self.copy, dtype=FLOAT_DTYPES,\n\u001b[0m\u001b[1;32m    435\u001b[0m                                 force_all_finite=\"allow-nan\", reset=False)\n\u001b[1;32m    436\u001b[0m \u001b[0;34m\u001b[0m\u001b[0m\n",
      "\u001b[0;32m~/.pyenv/versions/3.8.5/envs/lewagon/lib/python3.8/site-packages/sklearn/base.py\u001b[0m in \u001b[0;36m_validate_data\u001b[0;34m(self, X, y, reset, validate_separately, **check_params)\u001b[0m\n\u001b[1;32m    435\u001b[0m \u001b[0;34m\u001b[0m\u001b[0m\n\u001b[1;32m    436\u001b[0m         \u001b[0;32mif\u001b[0m \u001b[0mcheck_params\u001b[0m\u001b[0;34m.\u001b[0m\u001b[0mget\u001b[0m\u001b[0;34m(\u001b[0m\u001b[0;34m'ensure_2d'\u001b[0m\u001b[0;34m,\u001b[0m \u001b[0;32mTrue\u001b[0m\u001b[0;34m)\u001b[0m\u001b[0;34m:\u001b[0m\u001b[0;34m\u001b[0m\u001b[0;34m\u001b[0m\u001b[0m\n\u001b[0;32m--> 437\u001b[0;31m             \u001b[0mself\u001b[0m\u001b[0;34m.\u001b[0m\u001b[0m_check_n_features\u001b[0m\u001b[0;34m(\u001b[0m\u001b[0mX\u001b[0m\u001b[0;34m,\u001b[0m \u001b[0mreset\u001b[0m\u001b[0;34m=\u001b[0m\u001b[0mreset\u001b[0m\u001b[0;34m)\u001b[0m\u001b[0;34m\u001b[0m\u001b[0;34m\u001b[0m\u001b[0m\n\u001b[0m\u001b[1;32m    438\u001b[0m \u001b[0;34m\u001b[0m\u001b[0m\n\u001b[1;32m    439\u001b[0m         \u001b[0;32mreturn\u001b[0m \u001b[0mout\u001b[0m\u001b[0;34m\u001b[0m\u001b[0;34m\u001b[0m\u001b[0m\n",
      "\u001b[0;32m~/.pyenv/versions/3.8.5/envs/lewagon/lib/python3.8/site-packages/sklearn/base.py\u001b[0m in \u001b[0;36m_check_n_features\u001b[0;34m(self, X, reset)\u001b[0m\n\u001b[1;32m    363\u001b[0m \u001b[0;34m\u001b[0m\u001b[0m\n\u001b[1;32m    364\u001b[0m         \u001b[0;32mif\u001b[0m \u001b[0mn_features\u001b[0m \u001b[0;34m!=\u001b[0m \u001b[0mself\u001b[0m\u001b[0;34m.\u001b[0m\u001b[0mn_features_in_\u001b[0m\u001b[0;34m:\u001b[0m\u001b[0;34m\u001b[0m\u001b[0;34m\u001b[0m\u001b[0m\n\u001b[0;32m--> 365\u001b[0;31m             raise ValueError(\n\u001b[0m\u001b[1;32m    366\u001b[0m                 \u001b[0;34mf\"X has {n_features} features, but {self.__class__.__name__} \"\u001b[0m\u001b[0;34m\u001b[0m\u001b[0;34m\u001b[0m\u001b[0m\n\u001b[1;32m    367\u001b[0m                 f\"is expecting {self.n_features_in_} features as input.\")\n",
      "\u001b[0;31mValueError\u001b[0m: X has 2 features, but MinMaxScaler is expecting 1 features as input."
     ]
    }
   ],
   "source": [
    "# Try your transformer and save your new features here\n",
    "X_time_cyclical = CyclicalEncoder().fit_transform(X_time_features)\n",
    "X_time_cyclical.head()"
   ]
  },
  {
   "cell_type": "code",
   "execution_count": 33,
   "metadata": {
    "ExecuteTime": {
     "end_time": "2021-06-29T17:29:14.052971Z",
     "start_time": "2021-06-29T17:29:13.900696Z"
    }
   },
   "outputs": [],
   "source": [
    "# Check that this form a circle with 12 points\n",
    "plt.scatter(X_time_cyclical['month_cos'],\n",
    "            X_time_cyclical['month_sin'])\n",
    "plt.xlabel(\"month_cos\"); plt.ylabel(\"month_sin\");"
   ]
  },
  {
   "cell_type": "markdown",
   "metadata": {},
   "source": [
    "**📝 Enhance your `basic_pipeline` with a new preprocessing including both `TimeFeaturesExtractor` and `CyclicalFeatureExtractor`:**\n",
    "\n",
    "- Just use `TimeFeatureExtractor` if you haven't had time to do the `Cyclical` one\n",
    "- Store this new pipeline as `time_pipeline`\n",
    "- Keep same estimator for now"
   ]
  },
  {
   "cell_type": "code",
   "execution_count": 186,
   "metadata": {},
   "outputs": [],
   "source": [
    "TimeFE = TimeFeaturesExtractor()"
   ]
  },
  {
   "cell_type": "code",
   "execution_count": 202,
   "metadata": {
    "ExecuteTime": {
     "end_time": "2021-06-29T17:29:14.077345Z",
     "start_time": "2021-06-29T17:29:14.054521Z"
    },
    "tags": [
     "challengify"
    ]
   },
   "outputs": [
    {
     "data": {
      "text/html": [
       "<style>div.sk-top-container {color: black;background-color: white;}div.sk-toggleable {background-color: white;}label.sk-toggleable__label {cursor: pointer;display: block;width: 100%;margin-bottom: 0;padding: 0.2em 0.3em;box-sizing: border-box;text-align: center;}div.sk-toggleable__content {max-height: 0;max-width: 0;overflow: hidden;text-align: left;background-color: #f0f8ff;}div.sk-toggleable__content pre {margin: 0.2em;color: black;border-radius: 0.25em;background-color: #f0f8ff;}input.sk-toggleable__control:checked~div.sk-toggleable__content {max-height: 200px;max-width: 100%;overflow: auto;}div.sk-estimator input.sk-toggleable__control:checked~label.sk-toggleable__label {background-color: #d4ebff;}div.sk-label input.sk-toggleable__control:checked~label.sk-toggleable__label {background-color: #d4ebff;}input.sk-hidden--visually {border: 0;clip: rect(1px 1px 1px 1px);clip: rect(1px, 1px, 1px, 1px);height: 1px;margin: -1px;overflow: hidden;padding: 0;position: absolute;width: 1px;}div.sk-estimator {font-family: monospace;background-color: #f0f8ff;margin: 0.25em 0.25em;border: 1px dotted black;border-radius: 0.25em;box-sizing: border-box;}div.sk-estimator:hover {background-color: #d4ebff;}div.sk-parallel-item::after {content: \"\";width: 100%;border-bottom: 1px solid gray;flex-grow: 1;}div.sk-label:hover label.sk-toggleable__label {background-color: #d4ebff;}div.sk-serial::before {content: \"\";position: absolute;border-left: 1px solid gray;box-sizing: border-box;top: 2em;bottom: 0;left: 50%;}div.sk-serial {display: flex;flex-direction: column;align-items: center;background-color: white;}div.sk-item {z-index: 1;}div.sk-parallel {display: flex;align-items: stretch;justify-content: center;background-color: white;}div.sk-parallel-item {display: flex;flex-direction: column;position: relative;background-color: white;}div.sk-parallel-item:first-child::after {align-self: flex-end;width: 50%;}div.sk-parallel-item:last-child::after {align-self: flex-start;width: 50%;}div.sk-parallel-item:only-child::after {width: 0;}div.sk-dashed-wrapped {border: 1px dashed gray;margin: 0.2em;box-sizing: border-box;padding-bottom: 0.1em;background-color: white;position: relative;}div.sk-label label {font-family: monospace;font-weight: bold;background-color: white;display: inline-block;line-height: 1.2em;}div.sk-label-container {position: relative;z-index: 2;text-align: center;}div.sk-container {display: inline-block;position: relative;}</style><div class=\"sk-top-container\"><div class=\"sk-container\"><div class=\"sk-item sk-dashed-wrapped\"><div class=\"sk-label-container\"><div class=\"sk-label sk-toggleable\"><input class=\"sk-toggleable__control sk-hidden--visually\" id=\"10d2a651-9554-4fed-87e5-0cc3237c7fc3\" type=\"checkbox\" ><label class=\"sk-toggleable__label\" for=\"10d2a651-9554-4fed-87e5-0cc3237c7fc3\">Pipeline</label><div class=\"sk-toggleable__content\"><pre>Pipeline(steps=[('preprocessing',\n",
       "                 FeatureUnion(transformer_list=[('preprocessing',\n",
       "                                                 ColumnTransformer(transformers=[('numerical_scaler',\n",
       "                                                                                  RobustScaler(),\n",
       "                                                                                  <sklearn.compose._column_transformer.make_column_selector object at 0x7f557e835b20>),\n",
       "                                                                                 ('categorical_scaler',\n",
       "                                                                                  OneHotEncoder(handle_unknown='ignore',\n",
       "                                                                                                sparse=False),\n",
       "                                                                                  <sklearn.compose._column_transformer.make_column_selector object at 0x7f557e8cb6a0>)])),\n",
       "                                                ('TimeFeatureExtractor',\n",
       "                                                 TimeFeaturesExtractor())])),\n",
       "                ('linear_regression', Lasso())])</pre></div></div></div><div class=\"sk-serial\"><div class=\"sk-item sk-dashed-wrapped\"><div class=\"sk-label-container\"><div class=\"sk-label sk-toggleable\"><input class=\"sk-toggleable__control sk-hidden--visually\" id=\"1037be9e-1a72-4ed5-9bd3-50fa50f00502\" type=\"checkbox\" ><label class=\"sk-toggleable__label\" for=\"1037be9e-1a72-4ed5-9bd3-50fa50f00502\">preprocessing: FeatureUnion</label><div class=\"sk-toggleable__content\"><pre>FeatureUnion(transformer_list=[('preprocessing',\n",
       "                                ColumnTransformer(transformers=[('numerical_scaler',\n",
       "                                                                 RobustScaler(),\n",
       "                                                                 <sklearn.compose._column_transformer.make_column_selector object at 0x7f557e835b20>),\n",
       "                                                                ('categorical_scaler',\n",
       "                                                                 OneHotEncoder(handle_unknown='ignore',\n",
       "                                                                               sparse=False),\n",
       "                                                                 <sklearn.compose._column_transformer.make_column_selector object at 0x7f557e8cb6a0>)])),\n",
       "                               ('TimeFeatureExtractor',\n",
       "                                TimeFeaturesExtractor())])</pre></div></div></div><div class=\"sk-parallel\"><div class=\"sk-parallel-item\"><div class=\"sk-item\"><div class=\"sk-label-container\"><div class=\"sk-label sk-toggleable\"><label>preprocessing</label></div></div><div class=\"sk-serial\"><div class=\"sk-item sk-dashed-wrapped\"><div class=\"sk-parallel\"><div class=\"sk-parallel-item\"><div class=\"sk-item\"><div class=\"sk-label-container\"><div class=\"sk-label sk-toggleable\"><input class=\"sk-toggleable__control sk-hidden--visually\" id=\"fe27b279-b9dc-4cc1-aac5-2c874009f737\" type=\"checkbox\" ><label class=\"sk-toggleable__label\" for=\"fe27b279-b9dc-4cc1-aac5-2c874009f737\">numerical_scaler</label><div class=\"sk-toggleable__content\"><pre><sklearn.compose._column_transformer.make_column_selector object at 0x7f557e835b20></pre></div></div></div><div class=\"sk-serial\"><div class=\"sk-item\"><div class=\"sk-estimator sk-toggleable\"><input class=\"sk-toggleable__control sk-hidden--visually\" id=\"5bcbba81-7ae4-49d6-bbfd-58a92434d073\" type=\"checkbox\" ><label class=\"sk-toggleable__label\" for=\"5bcbba81-7ae4-49d6-bbfd-58a92434d073\">RobustScaler</label><div class=\"sk-toggleable__content\"><pre>RobustScaler()</pre></div></div></div></div></div></div><div class=\"sk-parallel-item\"><div class=\"sk-item\"><div class=\"sk-label-container\"><div class=\"sk-label sk-toggleable\"><input class=\"sk-toggleable__control sk-hidden--visually\" id=\"fce234cb-de0d-4bb3-b0aa-01a3c109365d\" type=\"checkbox\" ><label class=\"sk-toggleable__label\" for=\"fce234cb-de0d-4bb3-b0aa-01a3c109365d\">categorical_scaler</label><div class=\"sk-toggleable__content\"><pre><sklearn.compose._column_transformer.make_column_selector object at 0x7f557e8cb6a0></pre></div></div></div><div class=\"sk-serial\"><div class=\"sk-item\"><div class=\"sk-estimator sk-toggleable\"><input class=\"sk-toggleable__control sk-hidden--visually\" id=\"9ef0c54f-55ee-431e-8d43-2c2d048b5223\" type=\"checkbox\" ><label class=\"sk-toggleable__label\" for=\"9ef0c54f-55ee-431e-8d43-2c2d048b5223\">OneHotEncoder</label><div class=\"sk-toggleable__content\"><pre>OneHotEncoder(handle_unknown='ignore', sparse=False)</pre></div></div></div></div></div></div></div></div></div></div></div><div class=\"sk-parallel-item\"><div class=\"sk-item\"><div class=\"sk-label-container\"><div class=\"sk-label sk-toggleable\"><label>TimeFeatureExtractor</label></div></div><div class=\"sk-serial\"><div class=\"sk-item\"><div class=\"sk-estimator sk-toggleable\"><input class=\"sk-toggleable__control sk-hidden--visually\" id=\"1ca80ae6-ac7b-4393-9ebd-fe605b98febe\" type=\"checkbox\" ><label class=\"sk-toggleable__label\" for=\"1ca80ae6-ac7b-4393-9ebd-fe605b98febe\">TimeFeaturesExtractor</label><div class=\"sk-toggleable__content\"><pre>TimeFeaturesExtractor()</pre></div></div></div></div></div></div></div></div><div class=\"sk-item\"><div class=\"sk-estimator sk-toggleable\"><input class=\"sk-toggleable__control sk-hidden--visually\" id=\"77aa6071-85e0-49df-a076-3ae4407538b5\" type=\"checkbox\" ><label class=\"sk-toggleable__label\" for=\"77aa6071-85e0-49df-a076-3ae4407538b5\">Lasso</label><div class=\"sk-toggleable__content\"><pre>Lasso()</pre></div></div></div></div></div></div></div>"
      ],
      "text/plain": [
       "Pipeline(steps=[('preprocessing',\n",
       "                 FeatureUnion(transformer_list=[('preprocessing',\n",
       "                                                 ColumnTransformer(transformers=[('numerical_scaler',\n",
       "                                                                                  RobustScaler(),\n",
       "                                                                                  <sklearn.compose._column_transformer.make_column_selector object at 0x7f557e835b20>),\n",
       "                                                                                 ('categorical_scaler',\n",
       "                                                                                  OneHotEncoder(handle_unknown='ignore',\n",
       "                                                                                                sparse=False),\n",
       "                                                                                  <sklearn.compose._column_transformer.make_column_selector object at 0x7f557e8cb6a0>)])),\n",
       "                                                ('TimeFeatureExtractor',\n",
       "                                                 TimeFeaturesExtractor())])),\n",
       "                ('linear_regression', Lasso())])"
      ]
     },
     "execution_count": 202,
     "metadata": {},
     "output_type": "execute_result"
    }
   ],
   "source": [
    "from sklearn.pipeline import FeatureUnion\n",
    "\n",
    "# CustomFeatures = CustomGenreAndCountryEncoder()\n",
    "TimeFE = TimeFeaturesExtractor()\n",
    "\n",
    "preprocessing_union= FeatureUnion([\n",
    "    ('preprocessing', basic_preprocessing),\n",
    "    ('TimeFeatureExtractor', TimeFE)\n",
    "])\n",
    "\n",
    "time_pipeline = Pipeline([\n",
    "    ('preprocessing', preprocessing_union),\n",
    "    ('linear_regression', Lasso())\n",
    "])\n",
    "\n",
    "time_pipeline"
   ]
  },
  {
   "cell_type": "markdown",
   "metadata": {},
   "source": [
    "### Advanced categorical encoder to reduce the number of features\n",
    "\n",
    "ℹ️ Most of it has already been coded for you and it shouldn't take long. Still if you want to skip it and move to the next section: _Model Tuning_"
   ]
  },
  {
   "cell_type": "markdown",
   "metadata": {},
   "source": [
    "👉 We need to reduce the number of features to one-hot-encode, which arise from the high cardinality of `all_genres` and `top_countries`"
   ]
  },
  {
   "cell_type": "code",
   "execution_count": 21,
   "metadata": {
    "ExecuteTime": {
     "end_time": "2021-06-29T17:29:14.191964Z",
     "start_time": "2021-06-29T17:29:14.184044Z"
    }
   },
   "outputs": [
    {
     "data": {
      "text/plain": [
       "all_genres       745\n",
       "top_countries    320\n",
       "dtype: int64"
      ]
     },
     "execution_count": 21,
     "metadata": {},
     "output_type": "execute_result"
    }
   ],
   "source": [
    "X[['all_genres', 'top_countries']].nunique()"
   ]
  },
  {
   "cell_type": "markdown",
   "metadata": {},
   "source": [
    "👇 Both share a common pattern: there can be more than 1 country and more than 1 genre per movie."
   ]
  },
  {
   "cell_type": "code",
   "execution_count": 22,
   "metadata": {
    "ExecuteTime": {
     "end_time": "2021-06-29T17:29:14.201275Z",
     "start_time": "2021-06-29T17:29:14.193459Z"
    }
   },
   "outputs": [
    {
     "data": {
      "text/html": [
       "<div>\n",
       "<style scoped>\n",
       "    .dataframe tbody tr th:only-of-type {\n",
       "        vertical-align: middle;\n",
       "    }\n",
       "\n",
       "    .dataframe tbody tr th {\n",
       "        vertical-align: top;\n",
       "    }\n",
       "\n",
       "    .dataframe thead th {\n",
       "        text-align: right;\n",
       "    }\n",
       "</style>\n",
       "<table border=\"1\" class=\"dataframe\">\n",
       "  <thead>\n",
       "    <tr style=\"text-align: right;\">\n",
       "      <th></th>\n",
       "      <th>all_genres</th>\n",
       "      <th>top_countries</th>\n",
       "    </tr>\n",
       "  </thead>\n",
       "  <tbody>\n",
       "    <tr>\n",
       "      <th>6459</th>\n",
       "      <td>Thriller</td>\n",
       "      <td>France, United States of America</td>\n",
       "    </tr>\n",
       "    <tr>\n",
       "      <th>6460</th>\n",
       "      <td>Action, Adventure, Comedy, Thriller</td>\n",
       "      <td>United States of America</td>\n",
       "    </tr>\n",
       "    <tr>\n",
       "      <th>6461</th>\n",
       "      <td>Drama</td>\n",
       "      <td>United States of America</td>\n",
       "    </tr>\n",
       "    <tr>\n",
       "      <th>6462</th>\n",
       "      <td>Horror, Thriller</td>\n",
       "      <td>United States of America</td>\n",
       "    </tr>\n",
       "    <tr>\n",
       "      <th>6463</th>\n",
       "      <td>Drama</td>\n",
       "      <td>France</td>\n",
       "    </tr>\n",
       "  </tbody>\n",
       "</table>\n",
       "</div>"
      ],
      "text/plain": [
       "                               all_genres                     top_countries\n",
       "6459                             Thriller  France, United States of America\n",
       "6460  Action, Adventure, Comedy, Thriller          United States of America\n",
       "6461                                Drama          United States of America\n",
       "6462                     Horror, Thriller          United States of America\n",
       "6463                                Drama                            France"
      ]
     },
     "execution_count": 22,
     "metadata": {},
     "output_type": "execute_result"
    }
   ],
   "source": [
    "X[['all_genres', 'top_countries']].tail()"
   ]
  },
  {
   "cell_type": "markdown",
   "metadata": {},
   "source": [
    "👉 Run the cell below where we have coded for you a custom transformer `CustomGenreAndCountryEncoder` which: \n",
    "- Select the 10 most frequent genres and the 5 most frequent countries\n",
    "- Encode `all_genres` into 10 One Hot Encoded features\n",
    "- Encode `top_countries` into 5 One Hot Encoded features"
   ]
  },
  {
   "cell_type": "code",
   "execution_count": 26,
   "metadata": {
    "ExecuteTime": {
     "end_time": "2021-06-29T17:29:14.210953Z",
     "start_time": "2021-06-29T17:29:14.202791Z"
    }
   },
   "outputs": [],
   "source": [
    "from collections import Counter\n",
    "from sklearn.base import BaseEstimator, TransformerMixin\n",
    "\n",
    "class CustomGenreAndCountryEncoder(BaseEstimator, TransformerMixin):\n",
    "    \"\"\"\n",
    "    Encoding the all_genres and top_companies features which are multi-categorical :\n",
    "    a movie has several possible genres and countries of productions!\n",
    "    \"\"\"\n",
    "\n",
    "    def __init__(self):\n",
    "        pass\n",
    "\n",
    "    def fit(self, X, y=None):\n",
    "        \"\"\"\n",
    "        compute top genres and top countries of productions from all_genres and top_countries features\n",
    "        \"\"\"\n",
    "\n",
    "        # compute top 10 genres       \n",
    "        list_of_genres = list(X['all_genres'].apply(lambda x: [i.strip() for i in x.split(\",\")] if x != [''] else []).values)\n",
    "        top_genres = [m[0] for m in Counter([i for j in list_of_genres for i in j]).most_common(10)]\n",
    "\n",
    "        # save top_genres in dedicated instance variable\n",
    "        self.top_genres = top_genres\n",
    "        \n",
    "         # compute top 5 countries       \n",
    "        list_of_countries = list(X['top_countries'].apply(lambda x: [i.strip() for i in x.split(\",\")] if x != [''] else []).values)\n",
    "        top_countries = [m[0] for m in Counter([i for j in list_of_countries for i in j]).most_common(5)]\n",
    "\n",
    "        # save top_countries in dedicated instance variable\n",
    "        self.top_countries = top_countries\n",
    "\n",
    "        return self\n",
    "\n",
    "    def transform(self, X, y=None):\n",
    "        \"\"\"\n",
    "        encoding genre and country\n",
    "        \"\"\"\n",
    "        X_new = X.copy()\n",
    "        for genre in self.top_genres:\n",
    "            X_new['genre_' + genre] = X_new['all_genres'].apply(lambda x: 1 if genre in x else 0)\n",
    "        X_new = X_new.drop(columns=[\"all_genres\"])\n",
    "        for country in self.top_countries:\n",
    "            X_new['country_' + country] = X_new['top_countries'].apply(lambda x: 1 if country in x else 0)\n",
    "        X_new = X_new.drop(columns=[\"top_countries\"])\n",
    "        return X_new"
   ]
  },
  {
   "cell_type": "code",
   "execution_count": 27,
   "metadata": {
    "ExecuteTime": {
     "end_time": "2021-06-29T17:29:14.289418Z",
     "start_time": "2021-06-29T17:29:14.212506Z"
    }
   },
   "outputs": [
    {
     "name": "stdout",
     "output_type": "stream",
     "text": [
      "(6463, 15)\n"
     ]
    },
    {
     "data": {
      "text/html": [
       "<div>\n",
       "<style scoped>\n",
       "    .dataframe tbody tr th:only-of-type {\n",
       "        vertical-align: middle;\n",
       "    }\n",
       "\n",
       "    .dataframe tbody tr th {\n",
       "        vertical-align: top;\n",
       "    }\n",
       "\n",
       "    .dataframe thead th {\n",
       "        text-align: right;\n",
       "    }\n",
       "</style>\n",
       "<table border=\"1\" class=\"dataframe\">\n",
       "  <thead>\n",
       "    <tr style=\"text-align: right;\">\n",
       "      <th></th>\n",
       "      <th>genre_Drama</th>\n",
       "      <th>genre_Comedy</th>\n",
       "      <th>genre_Thriller</th>\n",
       "      <th>genre_Action</th>\n",
       "      <th>genre_Romance</th>\n",
       "      <th>genre_Adventure</th>\n",
       "      <th>genre_Crime</th>\n",
       "      <th>genre_Science Fiction</th>\n",
       "      <th>genre_Horror</th>\n",
       "      <th>genre_Family</th>\n",
       "      <th>country_United States of America</th>\n",
       "      <th>country_United Kingdom</th>\n",
       "      <th>country_France</th>\n",
       "      <th>country_Germany</th>\n",
       "      <th>country_Canada</th>\n",
       "    </tr>\n",
       "  </thead>\n",
       "  <tbody>\n",
       "    <tr>\n",
       "      <th>0</th>\n",
       "      <td>0</td>\n",
       "      <td>1</td>\n",
       "      <td>0</td>\n",
       "      <td>0</td>\n",
       "      <td>0</td>\n",
       "      <td>0</td>\n",
       "      <td>0</td>\n",
       "      <td>0</td>\n",
       "      <td>0</td>\n",
       "      <td>0</td>\n",
       "      <td>1</td>\n",
       "      <td>0</td>\n",
       "      <td>0</td>\n",
       "      <td>0</td>\n",
       "      <td>0</td>\n",
       "    </tr>\n",
       "    <tr>\n",
       "      <th>1</th>\n",
       "      <td>1</td>\n",
       "      <td>1</td>\n",
       "      <td>0</td>\n",
       "      <td>0</td>\n",
       "      <td>1</td>\n",
       "      <td>0</td>\n",
       "      <td>0</td>\n",
       "      <td>0</td>\n",
       "      <td>0</td>\n",
       "      <td>1</td>\n",
       "      <td>1</td>\n",
       "      <td>0</td>\n",
       "      <td>0</td>\n",
       "      <td>0</td>\n",
       "      <td>0</td>\n",
       "    </tr>\n",
       "    <tr>\n",
       "      <th>2</th>\n",
       "      <td>1</td>\n",
       "      <td>0</td>\n",
       "      <td>0</td>\n",
       "      <td>0</td>\n",
       "      <td>0</td>\n",
       "      <td>0</td>\n",
       "      <td>0</td>\n",
       "      <td>0</td>\n",
       "      <td>0</td>\n",
       "      <td>0</td>\n",
       "      <td>1</td>\n",
       "      <td>0</td>\n",
       "      <td>0</td>\n",
       "      <td>0</td>\n",
       "      <td>0</td>\n",
       "    </tr>\n",
       "    <tr>\n",
       "      <th>3</th>\n",
       "      <td>1</td>\n",
       "      <td>0</td>\n",
       "      <td>1</td>\n",
       "      <td>0</td>\n",
       "      <td>0</td>\n",
       "      <td>0</td>\n",
       "      <td>0</td>\n",
       "      <td>0</td>\n",
       "      <td>0</td>\n",
       "      <td>0</td>\n",
       "      <td>0</td>\n",
       "      <td>0</td>\n",
       "      <td>0</td>\n",
       "      <td>0</td>\n",
       "      <td>0</td>\n",
       "    </tr>\n",
       "    <tr>\n",
       "      <th>4</th>\n",
       "      <td>0</td>\n",
       "      <td>0</td>\n",
       "      <td>1</td>\n",
       "      <td>0</td>\n",
       "      <td>0</td>\n",
       "      <td>0</td>\n",
       "      <td>0</td>\n",
       "      <td>0</td>\n",
       "      <td>1</td>\n",
       "      <td>0</td>\n",
       "      <td>1</td>\n",
       "      <td>0</td>\n",
       "      <td>0</td>\n",
       "      <td>0</td>\n",
       "      <td>1</td>\n",
       "    </tr>\n",
       "  </tbody>\n",
       "</table>\n",
       "</div>"
      ],
      "text/plain": [
       "   genre_Drama  genre_Comedy  genre_Thriller  genre_Action  genre_Romance  \\\n",
       "0            0             1               0             0              0   \n",
       "1            1             1               0             0              1   \n",
       "2            1             0               0             0              0   \n",
       "3            1             0               1             0              0   \n",
       "4            0             0               1             0              0   \n",
       "\n",
       "   genre_Adventure  genre_Crime  genre_Science Fiction  genre_Horror  \\\n",
       "0                0            0                      0             0   \n",
       "1                0            0                      0             0   \n",
       "2                0            0                      0             0   \n",
       "3                0            0                      0             0   \n",
       "4                0            0                      0             1   \n",
       "\n",
       "   genre_Family  country_United States of America  country_United Kingdom  \\\n",
       "0             0                                 1                       0   \n",
       "1             1                                 1                       0   \n",
       "2             0                                 1                       0   \n",
       "3             0                                 0                       0   \n",
       "4             0                                 1                       0   \n",
       "\n",
       "   country_France  country_Germany  country_Canada  \n",
       "0               0                0               0  \n",
       "1               0                0               0  \n",
       "2               0                0               0  \n",
       "3               0                0               0  \n",
       "4               0                0               1  "
      ]
     },
     "execution_count": 27,
     "metadata": {},
     "output_type": "execute_result"
    }
   ],
   "source": [
    "# Check it out\n",
    "X_custom = CustomGenreAndCountryEncoder().fit_transform(X[['all_genres', 'top_countries']])\n",
    "print(X_custom.shape)\n",
    "X_custom.head()"
   ]
  },
  {
   "cell_type": "markdown",
   "metadata": {},
   "source": [
    "**📝 Compute your `final_pipeline` by integrating all these transformers** (or all those you have coded)\n",
    "\n",
    "- `CustomGenreAndCountryEncoder`\n",
    "- `TimeFeaturesExtractor`\n",
    "- `CyclicalFeatureExtractor`"
   ]
  },
  {
   "cell_type": "code",
   "execution_count": 39,
   "metadata": {},
   "outputs": [
    {
     "data": {
      "text/html": [
       "<style>div.sk-top-container {color: black;background-color: white;}div.sk-toggleable {background-color: white;}label.sk-toggleable__label {cursor: pointer;display: block;width: 100%;margin-bottom: 0;padding: 0.2em 0.3em;box-sizing: border-box;text-align: center;}div.sk-toggleable__content {max-height: 0;max-width: 0;overflow: hidden;text-align: left;background-color: #f0f8ff;}div.sk-toggleable__content pre {margin: 0.2em;color: black;border-radius: 0.25em;background-color: #f0f8ff;}input.sk-toggleable__control:checked~div.sk-toggleable__content {max-height: 200px;max-width: 100%;overflow: auto;}div.sk-estimator input.sk-toggleable__control:checked~label.sk-toggleable__label {background-color: #d4ebff;}div.sk-label input.sk-toggleable__control:checked~label.sk-toggleable__label {background-color: #d4ebff;}input.sk-hidden--visually {border: 0;clip: rect(1px 1px 1px 1px);clip: rect(1px, 1px, 1px, 1px);height: 1px;margin: -1px;overflow: hidden;padding: 0;position: absolute;width: 1px;}div.sk-estimator {font-family: monospace;background-color: #f0f8ff;margin: 0.25em 0.25em;border: 1px dotted black;border-radius: 0.25em;box-sizing: border-box;}div.sk-estimator:hover {background-color: #d4ebff;}div.sk-parallel-item::after {content: \"\";width: 100%;border-bottom: 1px solid gray;flex-grow: 1;}div.sk-label:hover label.sk-toggleable__label {background-color: #d4ebff;}div.sk-serial::before {content: \"\";position: absolute;border-left: 1px solid gray;box-sizing: border-box;top: 2em;bottom: 0;left: 50%;}div.sk-serial {display: flex;flex-direction: column;align-items: center;background-color: white;}div.sk-item {z-index: 1;}div.sk-parallel {display: flex;align-items: stretch;justify-content: center;background-color: white;}div.sk-parallel-item {display: flex;flex-direction: column;position: relative;background-color: white;}div.sk-parallel-item:first-child::after {align-self: flex-end;width: 50%;}div.sk-parallel-item:last-child::after {align-self: flex-start;width: 50%;}div.sk-parallel-item:only-child::after {width: 0;}div.sk-dashed-wrapped {border: 1px dashed gray;margin: 0.2em;box-sizing: border-box;padding-bottom: 0.1em;background-color: white;position: relative;}div.sk-label label {font-family: monospace;font-weight: bold;background-color: white;display: inline-block;line-height: 1.2em;}div.sk-label-container {position: relative;z-index: 2;text-align: center;}div.sk-container {display: inline-block;position: relative;}</style><div class=\"sk-top-container\"><div class=\"sk-container\"><div class=\"sk-item sk-dashed-wrapped\"><div class=\"sk-label-container\"><div class=\"sk-label sk-toggleable\"><input class=\"sk-toggleable__control sk-hidden--visually\" id=\"8bd83e70-faaa-41d0-b459-9a6e59e41c8e\" type=\"checkbox\" ><label class=\"sk-toggleable__label\" for=\"8bd83e70-faaa-41d0-b459-9a6e59e41c8e\">Pipeline</label><div class=\"sk-toggleable__content\"><pre>Pipeline(steps=[('preprocessing',\n",
       "                 ColumnTransformer(transformers=[('numerical_scaler',\n",
       "                                                  RobustScaler(),\n",
       "                                                  <sklearn.compose._column_transformer.make_column_selector object at 0x7f4dc0512d60>),\n",
       "                                                 ('categorical_scaler',\n",
       "                                                  OneHotEncoder(handle_unknown='ignore',\n",
       "                                                                sparse=False),\n",
       "                                                  <sklearn.compose._column_transformer.make_column_selector object at 0x7f4dc0512e20>)])),\n",
       "                ('linear_regression', Lasso())])</pre></div></div></div><div class=\"sk-serial\"><div class=\"sk-item sk-dashed-wrapped\"><div class=\"sk-label-container\"><div class=\"sk-label sk-toggleable\"><input class=\"sk-toggleable__control sk-hidden--visually\" id=\"b8ee04d7-4952-43a7-a180-69e9bb3046c7\" type=\"checkbox\" ><label class=\"sk-toggleable__label\" for=\"b8ee04d7-4952-43a7-a180-69e9bb3046c7\">preprocessing: ColumnTransformer</label><div class=\"sk-toggleable__content\"><pre>ColumnTransformer(transformers=[('numerical_scaler', RobustScaler(),\n",
       "                                 <sklearn.compose._column_transformer.make_column_selector object at 0x7f4dc0512d60>),\n",
       "                                ('categorical_scaler',\n",
       "                                 OneHotEncoder(handle_unknown='ignore',\n",
       "                                               sparse=False),\n",
       "                                 <sklearn.compose._column_transformer.make_column_selector object at 0x7f4dc0512e20>)])</pre></div></div></div><div class=\"sk-parallel\"><div class=\"sk-parallel-item\"><div class=\"sk-item\"><div class=\"sk-label-container\"><div class=\"sk-label sk-toggleable\"><input class=\"sk-toggleable__control sk-hidden--visually\" id=\"a5113dc3-8687-4b16-9f50-90da53f00b73\" type=\"checkbox\" ><label class=\"sk-toggleable__label\" for=\"a5113dc3-8687-4b16-9f50-90da53f00b73\">numerical_scaler</label><div class=\"sk-toggleable__content\"><pre><sklearn.compose._column_transformer.make_column_selector object at 0x7f4dc0512d60></pre></div></div></div><div class=\"sk-serial\"><div class=\"sk-item\"><div class=\"sk-estimator sk-toggleable\"><input class=\"sk-toggleable__control sk-hidden--visually\" id=\"2d2ecb7e-a44e-4569-82b8-2fc829d08709\" type=\"checkbox\" ><label class=\"sk-toggleable__label\" for=\"2d2ecb7e-a44e-4569-82b8-2fc829d08709\">RobustScaler</label><div class=\"sk-toggleable__content\"><pre>RobustScaler()</pre></div></div></div></div></div></div><div class=\"sk-parallel-item\"><div class=\"sk-item\"><div class=\"sk-label-container\"><div class=\"sk-label sk-toggleable\"><input class=\"sk-toggleable__control sk-hidden--visually\" id=\"0649bc35-6869-479e-8215-3db170de693b\" type=\"checkbox\" ><label class=\"sk-toggleable__label\" for=\"0649bc35-6869-479e-8215-3db170de693b\">categorical_scaler</label><div class=\"sk-toggleable__content\"><pre><sklearn.compose._column_transformer.make_column_selector object at 0x7f4dc0512e20></pre></div></div></div><div class=\"sk-serial\"><div class=\"sk-item\"><div class=\"sk-estimator sk-toggleable\"><input class=\"sk-toggleable__control sk-hidden--visually\" id=\"abb55139-4086-4a83-b6cf-3c59bb3b89fb\" type=\"checkbox\" ><label class=\"sk-toggleable__label\" for=\"abb55139-4086-4a83-b6cf-3c59bb3b89fb\">OneHotEncoder</label><div class=\"sk-toggleable__content\"><pre>OneHotEncoder(handle_unknown='ignore', sparse=False)</pre></div></div></div></div></div></div></div></div><div class=\"sk-item\"><div class=\"sk-estimator sk-toggleable\"><input class=\"sk-toggleable__control sk-hidden--visually\" id=\"a1422437-eb1c-4a76-bfab-6b2b3e8ebb12\" type=\"checkbox\" ><label class=\"sk-toggleable__label\" for=\"a1422437-eb1c-4a76-bfab-6b2b3e8ebb12\">Lasso</label><div class=\"sk-toggleable__content\"><pre>Lasso()</pre></div></div></div></div></div></div></div>"
      ],
      "text/plain": [
       "Pipeline(steps=[('preprocessing',\n",
       "                 ColumnTransformer(transformers=[('numerical_scaler',\n",
       "                                                  RobustScaler(),\n",
       "                                                  <sklearn.compose._column_transformer.make_column_selector object at 0x7f4dc0512d60>),\n",
       "                                                 ('categorical_scaler',\n",
       "                                                  OneHotEncoder(handle_unknown='ignore',\n",
       "                                                                sparse=False),\n",
       "                                                  <sklearn.compose._column_transformer.make_column_selector object at 0x7f4dc0512e20>)])),\n",
       "                ('linear_regression', Lasso())])"
      ]
     },
     "execution_count": 39,
     "metadata": {},
     "output_type": "execute_result"
    }
   ],
   "source": [
    "from sklearn.pipeline import FeatureUnion\n",
    "\n",
    "# CustomFeatures = CustomGenreAndCountryEncoder()\n",
    "# \n",
    "# preprocessing_union= FeatureUnion([\n",
    "#     ('preprocessing', basic_preprocessing),\n",
    "#     ('CustomGenreAndCountryEncoder', CustomFeatures)\n",
    "# ])\n",
    "\n",
    "final_pipeline = Pipeline([\n",
    "    ('preprocessing', basic_preprocessing),\n",
    "    ('linear_regression', Lasso())\n",
    "])\n",
    "\n",
    "final_pipeline\n"
   ]
  },
  {
   "cell_type": "markdown",
   "metadata": {},
   "source": [
    "> Can't make it worked. I had to reboot 2 times. Skip this part and go to model tuning"
   ]
  },
  {
   "cell_type": "code",
   "execution_count": 42,
   "metadata": {},
   "outputs": [
    {
     "name": "stdout",
     "output_type": "stream",
     "text": [
      "<class 'numpy.ndarray'>\n",
      "\n",
      "[0.1057806  0.18168139 0.1558145  0.08293721 0.17105506 0.20478273\n",
      " 0.14008584 0.20870529 0.0568242  0.18709721]\n"
     ]
    }
   ],
   "source": [
    "final_scores = cross_val_score(final_pipeline, X, y, cv=10, scoring='r2')\n",
    "\n",
    "print(type(final_scores))\n",
    "print()\n",
    "print(final_scores)"
   ]
  },
  {
   "cell_type": "markdown",
   "metadata": {},
   "source": [
    "📝 **Compute and store its cross validated scores as `final_scores` array of floats**\n",
    "\n",
    "- It does not necessarily improve the performance before we can try-out doing model tuning\n",
    "- However, with a now limited number of features, we will be able to train more complex models in next section (ensemble...)"
   ]
  },
  {
   "cell_type": "markdown",
   "metadata": {},
   "source": [
    "### 🧪 Save your result\n",
    "\n",
    "Run the following cell to save your results."
   ]
  },
  {
   "cell_type": "code",
   "execution_count": 45,
   "metadata": {
    "ExecuteTime": {
     "end_time": "2021-06-29T17:29:15.204479Z",
     "start_time": "2021-06-29T17:29:15.198198Z"
    }
   },
   "outputs": [],
   "source": [
    "ChallengeResult(\n",
    "    'feature_engineering',\n",
    "    X_time_features=X_time_features,\n",
    "    X_time_cyclical= X_time_cyclical,\n",
    "    time_pipeline=time_pipeline,\n",
    "    final_pipeline=final_pipeline,\n",
    "    final_scores=final_scores\n",
    ").write()\n",
    "\n",
    "# Hint: Try restarting your notebook if you obtain an error about saving a custom encoder"
   ]
  },
  {
   "cell_type": "markdown",
   "metadata": {},
   "source": [
    "## Model tuning"
   ]
  },
  {
   "cell_type": "markdown",
   "metadata": {},
   "source": [
    "### Random Forest"
   ]
  },
  {
   "cell_type": "markdown",
   "metadata": {},
   "source": [
    "📝 **Change the estimator of your `final_pipeline` by a Random Forest and checkout your new cross-validated score**"
   ]
  },
  {
   "cell_type": "code",
   "execution_count": 53,
   "metadata": {},
   "outputs": [],
   "source": [
    "from sklearn.model_selection import train_test_split\n",
    "\n",
    "X_train, X_test, y_train, y_test = train_test_split(X, y, test_size=0.3, random_state=42)"
   ]
  },
  {
   "cell_type": "code",
   "execution_count": 45,
   "metadata": {},
   "outputs": [],
   "source": [
    "from sklearn.ensemble import RandomForestRegressor\n",
    "\n",
    "# cv_results = cross_validate(forest, X, y, scoring = \"r2\", cv=5)\n",
    "# \n",
    "# print(cv_results['test_score'])\n",
    "# print('mean r2: ',cv_results['test_score'].mean())\n",
    "# print('std r2: ', cv_results['test_score'].std())"
   ]
  },
  {
   "cell_type": "code",
   "execution_count": 47,
   "metadata": {},
   "outputs": [
    {
     "data": {
      "text/html": [
       "<style>div.sk-top-container {color: black;background-color: white;}div.sk-toggleable {background-color: white;}label.sk-toggleable__label {cursor: pointer;display: block;width: 100%;margin-bottom: 0;padding: 0.2em 0.3em;box-sizing: border-box;text-align: center;}div.sk-toggleable__content {max-height: 0;max-width: 0;overflow: hidden;text-align: left;background-color: #f0f8ff;}div.sk-toggleable__content pre {margin: 0.2em;color: black;border-radius: 0.25em;background-color: #f0f8ff;}input.sk-toggleable__control:checked~div.sk-toggleable__content {max-height: 200px;max-width: 100%;overflow: auto;}div.sk-estimator input.sk-toggleable__control:checked~label.sk-toggleable__label {background-color: #d4ebff;}div.sk-label input.sk-toggleable__control:checked~label.sk-toggleable__label {background-color: #d4ebff;}input.sk-hidden--visually {border: 0;clip: rect(1px 1px 1px 1px);clip: rect(1px, 1px, 1px, 1px);height: 1px;margin: -1px;overflow: hidden;padding: 0;position: absolute;width: 1px;}div.sk-estimator {font-family: monospace;background-color: #f0f8ff;margin: 0.25em 0.25em;border: 1px dotted black;border-radius: 0.25em;box-sizing: border-box;}div.sk-estimator:hover {background-color: #d4ebff;}div.sk-parallel-item::after {content: \"\";width: 100%;border-bottom: 1px solid gray;flex-grow: 1;}div.sk-label:hover label.sk-toggleable__label {background-color: #d4ebff;}div.sk-serial::before {content: \"\";position: absolute;border-left: 1px solid gray;box-sizing: border-box;top: 2em;bottom: 0;left: 50%;}div.sk-serial {display: flex;flex-direction: column;align-items: center;background-color: white;}div.sk-item {z-index: 1;}div.sk-parallel {display: flex;align-items: stretch;justify-content: center;background-color: white;}div.sk-parallel-item {display: flex;flex-direction: column;position: relative;background-color: white;}div.sk-parallel-item:first-child::after {align-self: flex-end;width: 50%;}div.sk-parallel-item:last-child::after {align-self: flex-start;width: 50%;}div.sk-parallel-item:only-child::after {width: 0;}div.sk-dashed-wrapped {border: 1px dashed gray;margin: 0.2em;box-sizing: border-box;padding-bottom: 0.1em;background-color: white;position: relative;}div.sk-label label {font-family: monospace;font-weight: bold;background-color: white;display: inline-block;line-height: 1.2em;}div.sk-label-container {position: relative;z-index: 2;text-align: center;}div.sk-container {display: inline-block;position: relative;}</style><div class=\"sk-top-container\"><div class=\"sk-container\"><div class=\"sk-item\"><div class=\"sk-estimator sk-toggleable\"><input class=\"sk-toggleable__control sk-hidden--visually\" id=\"4a1f885e-4c60-4dc3-9549-103a7b4e2773\" type=\"checkbox\" checked><label class=\"sk-toggleable__label\" for=\"4a1f885e-4c60-4dc3-9549-103a7b4e2773\">RandomForestRegressor</label><div class=\"sk-toggleable__content\"><pre>RandomForestRegressor()</pre></div></div></div></div></div>"
      ],
      "text/plain": [
       "RandomForestRegressor()"
      ]
     },
     "execution_count": 47,
     "metadata": {},
     "output_type": "execute_result"
    }
   ],
   "source": [
    "forest"
   ]
  },
  {
   "cell_type": "code",
   "execution_count": 57,
   "metadata": {
    "ExecuteTime": {
     "end_time": "2021-06-29T17:29:19.391364Z",
     "start_time": "2021-06-29T17:29:15.206532Z"
    },
    "tags": [
     "challengify"
    ]
   },
   "outputs": [
    {
     "data": {
      "text/html": [
       "<style>div.sk-top-container {color: black;background-color: white;}div.sk-toggleable {background-color: white;}label.sk-toggleable__label {cursor: pointer;display: block;width: 100%;margin-bottom: 0;padding: 0.2em 0.3em;box-sizing: border-box;text-align: center;}div.sk-toggleable__content {max-height: 0;max-width: 0;overflow: hidden;text-align: left;background-color: #f0f8ff;}div.sk-toggleable__content pre {margin: 0.2em;color: black;border-radius: 0.25em;background-color: #f0f8ff;}input.sk-toggleable__control:checked~div.sk-toggleable__content {max-height: 200px;max-width: 100%;overflow: auto;}div.sk-estimator input.sk-toggleable__control:checked~label.sk-toggleable__label {background-color: #d4ebff;}div.sk-label input.sk-toggleable__control:checked~label.sk-toggleable__label {background-color: #d4ebff;}input.sk-hidden--visually {border: 0;clip: rect(1px 1px 1px 1px);clip: rect(1px, 1px, 1px, 1px);height: 1px;margin: -1px;overflow: hidden;padding: 0;position: absolute;width: 1px;}div.sk-estimator {font-family: monospace;background-color: #f0f8ff;margin: 0.25em 0.25em;border: 1px dotted black;border-radius: 0.25em;box-sizing: border-box;}div.sk-estimator:hover {background-color: #d4ebff;}div.sk-parallel-item::after {content: \"\";width: 100%;border-bottom: 1px solid gray;flex-grow: 1;}div.sk-label:hover label.sk-toggleable__label {background-color: #d4ebff;}div.sk-serial::before {content: \"\";position: absolute;border-left: 1px solid gray;box-sizing: border-box;top: 2em;bottom: 0;left: 50%;}div.sk-serial {display: flex;flex-direction: column;align-items: center;background-color: white;}div.sk-item {z-index: 1;}div.sk-parallel {display: flex;align-items: stretch;justify-content: center;background-color: white;}div.sk-parallel-item {display: flex;flex-direction: column;position: relative;background-color: white;}div.sk-parallel-item:first-child::after {align-self: flex-end;width: 50%;}div.sk-parallel-item:last-child::after {align-self: flex-start;width: 50%;}div.sk-parallel-item:only-child::after {width: 0;}div.sk-dashed-wrapped {border: 1px dashed gray;margin: 0.2em;box-sizing: border-box;padding-bottom: 0.1em;background-color: white;position: relative;}div.sk-label label {font-family: monospace;font-weight: bold;background-color: white;display: inline-block;line-height: 1.2em;}div.sk-label-container {position: relative;z-index: 2;text-align: center;}div.sk-container {display: inline-block;position: relative;}</style><div class=\"sk-top-container\"><div class=\"sk-container\"><div class=\"sk-item sk-dashed-wrapped\"><div class=\"sk-label-container\"><div class=\"sk-label sk-toggleable\"><input class=\"sk-toggleable__control sk-hidden--visually\" id=\"7a7e33dc-8304-4fc0-9199-1f624e230fa8\" type=\"checkbox\" ><label class=\"sk-toggleable__label\" for=\"7a7e33dc-8304-4fc0-9199-1f624e230fa8\">Pipeline</label><div class=\"sk-toggleable__content\"><pre>Pipeline(steps=[('preprocessing',\n",
       "                 ColumnTransformer(transformers=[('numerical_scaler',\n",
       "                                                  RobustScaler(),\n",
       "                                                  <sklearn.compose._column_transformer.make_column_selector object at 0x7f4dc0512d60>),\n",
       "                                                 ('categorical_scaler',\n",
       "                                                  OneHotEncoder(handle_unknown='ignore',\n",
       "                                                                sparse=False),\n",
       "                                                  <sklearn.compose._column_transformer.make_column_selector object at 0x7f4dc0512e20>)])),\n",
       "                ('forest_regression',\n",
       "                 RandomForestRegressor(max_depth=5, n_estimators=20,\n",
       "                                       random_state=0))])</pre></div></div></div><div class=\"sk-serial\"><div class=\"sk-item sk-dashed-wrapped\"><div class=\"sk-label-container\"><div class=\"sk-label sk-toggleable\"><input class=\"sk-toggleable__control sk-hidden--visually\" id=\"abb4794b-2cfb-40c6-bb43-d5221c7a0f05\" type=\"checkbox\" ><label class=\"sk-toggleable__label\" for=\"abb4794b-2cfb-40c6-bb43-d5221c7a0f05\">preprocessing: ColumnTransformer</label><div class=\"sk-toggleable__content\"><pre>ColumnTransformer(transformers=[('numerical_scaler', RobustScaler(),\n",
       "                                 <sklearn.compose._column_transformer.make_column_selector object at 0x7f4dc0512d60>),\n",
       "                                ('categorical_scaler',\n",
       "                                 OneHotEncoder(handle_unknown='ignore',\n",
       "                                               sparse=False),\n",
       "                                 <sklearn.compose._column_transformer.make_column_selector object at 0x7f4dc0512e20>)])</pre></div></div></div><div class=\"sk-parallel\"><div class=\"sk-parallel-item\"><div class=\"sk-item\"><div class=\"sk-label-container\"><div class=\"sk-label sk-toggleable\"><input class=\"sk-toggleable__control sk-hidden--visually\" id=\"fef37b20-0bac-4c4f-973c-81819bf0477c\" type=\"checkbox\" ><label class=\"sk-toggleable__label\" for=\"fef37b20-0bac-4c4f-973c-81819bf0477c\">numerical_scaler</label><div class=\"sk-toggleable__content\"><pre><sklearn.compose._column_transformer.make_column_selector object at 0x7f4dc0512d60></pre></div></div></div><div class=\"sk-serial\"><div class=\"sk-item\"><div class=\"sk-estimator sk-toggleable\"><input class=\"sk-toggleable__control sk-hidden--visually\" id=\"b4dd3f5f-b767-4907-87aa-56ddcd78d8d0\" type=\"checkbox\" ><label class=\"sk-toggleable__label\" for=\"b4dd3f5f-b767-4907-87aa-56ddcd78d8d0\">RobustScaler</label><div class=\"sk-toggleable__content\"><pre>RobustScaler()</pre></div></div></div></div></div></div><div class=\"sk-parallel-item\"><div class=\"sk-item\"><div class=\"sk-label-container\"><div class=\"sk-label sk-toggleable\"><input class=\"sk-toggleable__control sk-hidden--visually\" id=\"28806c50-3461-49ee-897d-8b5f64813815\" type=\"checkbox\" ><label class=\"sk-toggleable__label\" for=\"28806c50-3461-49ee-897d-8b5f64813815\">categorical_scaler</label><div class=\"sk-toggleable__content\"><pre><sklearn.compose._column_transformer.make_column_selector object at 0x7f4dc0512e20></pre></div></div></div><div class=\"sk-serial\"><div class=\"sk-item\"><div class=\"sk-estimator sk-toggleable\"><input class=\"sk-toggleable__control sk-hidden--visually\" id=\"5a312a61-af98-4cc8-b42f-dd81ab9b9040\" type=\"checkbox\" ><label class=\"sk-toggleable__label\" for=\"5a312a61-af98-4cc8-b42f-dd81ab9b9040\">OneHotEncoder</label><div class=\"sk-toggleable__content\"><pre>OneHotEncoder(handle_unknown='ignore', sparse=False)</pre></div></div></div></div></div></div></div></div><div class=\"sk-item\"><div class=\"sk-estimator sk-toggleable\"><input class=\"sk-toggleable__control sk-hidden--visually\" id=\"f8188a36-d39e-4cc0-83ad-26b8d73f9758\" type=\"checkbox\" ><label class=\"sk-toggleable__label\" for=\"f8188a36-d39e-4cc0-83ad-26b8d73f9758\">RandomForestRegressor</label><div class=\"sk-toggleable__content\"><pre>RandomForestRegressor(max_depth=5, n_estimators=20, random_state=0)</pre></div></div></div></div></div></div></div>"
      ],
      "text/plain": [
       "Pipeline(steps=[('preprocessing',\n",
       "                 ColumnTransformer(transformers=[('numerical_scaler',\n",
       "                                                  RobustScaler(),\n",
       "                                                  <sklearn.compose._column_transformer.make_column_selector object at 0x7f4dc0512d60>),\n",
       "                                                 ('categorical_scaler',\n",
       "                                                  OneHotEncoder(handle_unknown='ignore',\n",
       "                                                                sparse=False),\n",
       "                                                  <sklearn.compose._column_transformer.make_column_selector object at 0x7f4dc0512e20>)])),\n",
       "                ('forest_regression',\n",
       "                 RandomForestRegressor(max_depth=5, n_estimators=20,\n",
       "                                       random_state=0))])"
      ]
     },
     "execution_count": 57,
     "metadata": {},
     "output_type": "execute_result"
    }
   ],
   "source": [
    "final_pipeline = Pipeline([\n",
    "    ('preprocessing', basic_preprocessing),\n",
    "    ('forest_regression', RandomForestRegressor(n_estimators=20, max_depth = 5, random_state=0))\n",
    "])\n",
    "\n",
    "final_pipeline"
   ]
  },
  {
   "cell_type": "code",
   "execution_count": 58,
   "metadata": {
    "ExecuteTime": {
     "end_time": "2021-06-29T17:29:19.431573Z",
     "start_time": "2021-06-29T17:29:19.394891Z"
    },
    "tags": [
     "challengify"
    ]
   },
   "outputs": [
    {
     "name": "stdout",
     "output_type": "stream",
     "text": [
      "<class 'numpy.ndarray'>\n",
      "\n",
      "[0.07478141 0.10686282 0.07738241 0.10304951 0.01701732]\n"
     ]
    }
   ],
   "source": [
    "final_scores = cross_val_score(final_pipeline, X_train, y_train, cv=5, scoring='r2')\n",
    "\n",
    "print(type(final_scores))\n",
    "print()\n",
    "print(final_scores)"
   ]
  },
  {
   "cell_type": "markdown",
   "metadata": {},
   "source": [
    "### Best hyperparameters quest\n",
    "\n",
    "\n",
    "\n",
    "**📝 Fine tune your model to try to get the best performance in the minimum amount of time!**\n",
    "\n",
    "- Store the result of your search inside the `search` variable.\n",
    "- Store your 5 cross-validated scores inside `best_scores` array of floats"
   ]
  },
  {
   "cell_type": "markdown",
   "metadata": {},
   "source": [
    "**📝 Re-train your best pipeline on the whole (X,y) dataset**\n",
    "- Store the trained pipeline inside the `best_pipeline` variable"
   ]
  },
  {
   "cell_type": "code",
   "execution_count": 53,
   "metadata": {
    "ExecuteTime": {
     "end_time": "2021-06-29T17:30:18.200730Z",
     "start_time": "2021-06-29T17:30:14.992877Z"
    },
    "tags": [
     "challengify"
    ]
   },
   "outputs": [],
   "source": [
    "# YOUR CODE HERE"
   ]
  },
  {
   "cell_type": "markdown",
   "metadata": {},
   "source": [
    "### Prediction\n",
    "\n",
    "Now you have your model tuned with the best hyperparameters, you are ready for a prediction.\n",
    "\n",
    "Here is a famous TV show released in 2017:\n",
    "\n",
    "```python\n",
    "dict(\n",
    "        original_title=str(\"La Casa de Papel\"),\n",
    "        title=str(\"Money Heist\"), \n",
    "        release_date= pd.to_datetime([\"2017-05-02\"]), \n",
    "        duration_min=float(50),\n",
    "        description=str(\"An unusual group of robbers attempt to carry out the most perfect robbery\"), \n",
    "        budget=float(3_000_000), \n",
    "        original_language =str(\"es\"), \n",
    "        status=str(\"Released\"),\n",
    "        number_of_awards_won =int(2), \n",
    "        number_of_nominations=int(5), \n",
    "        has_collection=int(1),\n",
    "        all_genres=str(\"Action, Crime, Mystery\"), \n",
    "        top_countries=str(\"Spain, France, United States of America\"), \n",
    "        number_of_top_productions=int('1'),\n",
    "        available_in_english=bool('True') \n",
    ")\n",
    "```\n",
    "\n",
    "**📝 Compute the predicted popularity of this TV show and store it into the `popularity` variable as a floating number.**"
   ]
  },
  {
   "cell_type": "code",
   "execution_count": 54,
   "metadata": {
    "ExecuteTime": {
     "end_time": "2021-06-29T17:30:18.209145Z",
     "start_time": "2021-06-29T17:30:18.202809Z"
    },
    "tags": [
     "challengify"
    ]
   },
   "outputs": [],
   "source": [
    "# YOUR CODE HERE"
   ]
  },
  {
   "cell_type": "code",
   "execution_count": 55,
   "metadata": {
    "ExecuteTime": {
     "end_time": "2021-06-29T17:30:18.293267Z",
     "start_time": "2021-06-29T17:30:18.211979Z"
    },
    "tags": [
     "challengify"
    ]
   },
   "outputs": [],
   "source": [
    "# YOUR CODE HERE"
   ]
  },
  {
   "cell_type": "markdown",
   "metadata": {},
   "source": [
    "### 🧪 Save your results\n",
    "\n",
    "Run the following cell to save your results."
   ]
  },
  {
   "cell_type": "code",
   "execution_count": 56,
   "metadata": {
    "ExecuteTime": {
     "end_time": "2021-06-29T17:30:18.492068Z",
     "start_time": "2021-06-29T17:30:18.294946Z"
    }
   },
   "outputs": [],
   "source": [
    "ChallengeResult(\n",
    "    \"model_tuning\",\n",
    "    search=search,\n",
    "    best_pipeline=best_pipeline,\n",
    "    best_scores = best_scores,\n",
    "    popularity=popularity\n",
    ").write()"
   ]
  },
  {
   "cell_type": "markdown",
   "metadata": {},
   "source": [
    "## API \n",
    "\n",
    "Time to put a pipeline in production!\n",
    "\n",
    "👉 Go to https://github.com/lewagon/data-certification-api and follow instructions\n",
    "\n",
    "**This final part is independent from the above notebook**"
   ]
  }
 ],
 "metadata": {
  "interpreter": {
   "hash": "572b4e543617d03e90ecaf525e08695da1ff29b13594f787e33b342cf572f792"
  },
  "kernelspec": {
   "display_name": "Python 3",
   "language": "python",
   "name": "python3"
  },
  "language_info": {
   "codemirror_mode": {
    "name": "ipython",
    "version": 3
   },
   "file_extension": ".py",
   "mimetype": "text/x-python",
   "name": "python",
   "nbconvert_exporter": "python",
   "pygments_lexer": "ipython3",
   "version": "3.8.5"
  },
  "toc": {
   "base_numbering": 1,
   "nav_menu": {},
   "number_sections": true,
   "sideBar": true,
   "skip_h1_title": true,
   "title_cell": "Table of Contents",
   "title_sidebar": "Contents",
   "toc_cell": false,
   "toc_position": {
    "height": "calc(100% - 180px)",
    "left": "10px",
    "top": "150px",
    "width": "242px"
   },
   "toc_section_display": true,
   "toc_window_display": true
  },
  "varInspector": {
   "cols": {
    "lenName": 16,
    "lenType": 16,
    "lenVar": 40
   },
   "kernels_config": {
    "python": {
     "delete_cmd_postfix": "",
     "delete_cmd_prefix": "del ",
     "library": "var_list.py",
     "varRefreshCmd": "print(var_dic_list())"
    },
    "r": {
     "delete_cmd_postfix": ") ",
     "delete_cmd_prefix": "rm(",
     "library": "var_list.r",
     "varRefreshCmd": "cat(var_dic_list()) "
    }
   },
   "types_to_exclude": [
    "module",
    "function",
    "builtin_function_or_method",
    "instance",
    "_Feature"
   ],
   "window_display": false
  }
 },
 "nbformat": 4,
 "nbformat_minor": 4
}
